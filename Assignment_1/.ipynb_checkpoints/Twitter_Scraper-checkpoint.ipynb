{
 "cells": [
  {
   "cell_type": "code",
   "execution_count": 1,
   "metadata": {
    "collapsed": true
   },
   "outputs": [],
   "source": [
    "import twitter\n",
    "## Note install python-twitter (not twitter)"
   ]
  },
  {
   "cell_type": "markdown",
   "metadata": {},
   "source": [
    "### Set up Twitter tokens"
   ]
  },
  {
   "cell_type": "code",
   "execution_count": 2,
   "metadata": {
    "collapsed": true
   },
   "outputs": [],
   "source": [
    "import tokens_twitt\n",
    "import pandas as pd"
   ]
  },
  {
   "cell_type": "code",
   "execution_count": 3,
   "metadata": {
    "collapsed": true
   },
   "outputs": [],
   "source": [
    "api = twitter.Api(consumer_key=tokens_twitt.CONSUMER_KEY,\n",
    "  consumer_secret=tokens_twitt.CONSUMER_SECRET,\n",
    "    access_token_key=tokens_twitt.ACCESS_TOKEN,\n",
    "    access_token_secret=tokens_twitt.ACCESS_SECRET)"
   ]
  },
  {
   "cell_type": "code",
   "execution_count": 4,
   "metadata": {},
   "outputs": [
    {
     "name": "stdout",
     "output_type": "stream",
     "text": [
      "{\"created_at\": \"Wed Jun 19 14:36:18 +0000 2013\", \"description\": \"Current UT grad student (Business Analytics), TAMU '14 & '16 (Nuc Eng) Grad. Interested in Sports Analytics, Data Analytics, and everything Nuclear.\", \"favourites_count\": 3765, \"followers_count\": 202, \"friends_count\": 440, \"id\": 1531004706, \"lang\": \"en\", \"listed_count\": 4, \"location\": \"Texas, USA\", \"name\": \"Meyappan\", \"profile_background_color\": \"C0DEED\", \"profile_background_image_url\": \"http://pbs.twimg.com/profile_background_images/378800000002780119/3c1661270be5047c096e13f333d08528.jpeg\", \"profile_background_tile\": true, \"profile_banner_url\": \"https://pbs.twimg.com/profile_banners/1531004706/1385747652\", \"profile_image_url\": \"http://pbs.twimg.com/profile_images/949494171101929472/0WDlDRk__normal.jpg\", \"profile_link_color\": \"0084B4\", \"profile_sidebar_fill_color\": \"DDEEF6\", \"profile_text_color\": \"333333\", \"screen_name\": \"msubbaiah1\", \"status\": {\"created_at\": \"Mon Jan 29 19:17:44 +0000 2018\", \"id\": 958056585930182659, \"id_str\": \"958056585930182659\", \"in_reply_to_screen_name\": \"presidual\", \"in_reply_to_status_id\": 958056218802536448, \"in_reply_to_user_id\": 3075907260, \"lang\": \"en\", \"source\": \"<a href=\\\"http://twitter.com\\\" rel=\\\"nofollow\\\">Twitter Web Client</a>\", \"text\": \"@presidual Actually been trying to get a hold of you for some viz ideas for a march madness shiny app I've been mak\\u2026 https://t.co/06Q5gCbflP\", \"truncated\": true}, \"statuses_count\": 610, \"time_zone\": \"Atlantic Time (Canada)\", \"url\": \"https://t.co/vwc7exlCTz\", \"utc_offset\": -14400}\n"
     ]
    }
   ],
   "source": [
    "print(api.VerifyCredentials())"
   ]
  },
  {
   "cell_type": "code",
   "execution_count": 54,
   "metadata": {
    "collapsed": true
   },
   "outputs": [],
   "source": [
    "tweets = api.GetSearch(term='winter olympics', since=2018-1-15, count=100)"
   ]
  },
  {
   "cell_type": "code",
   "execution_count": 91,
   "metadata": {},
   "outputs": [
    {
     "data": {
      "text/html": [
       "<div>\n",
       "<style>\n",
       "    .dataframe thead tr:only-child th {\n",
       "        text-align: right;\n",
       "    }\n",
       "\n",
       "    .dataframe thead th {\n",
       "        text-align: left;\n",
       "    }\n",
       "\n",
       "    .dataframe tbody tr th {\n",
       "        vertical-align: top;\n",
       "    }\n",
       "</style>\n",
       "<table border=\"1\" class=\"dataframe\">\n",
       "  <thead>\n",
       "    <tr style=\"text-align: right;\">\n",
       "      <th></th>\n",
       "      <th>screen_name</th>\n",
       "      <th>text</th>\n",
       "      <th>name</th>\n",
       "    </tr>\n",
       "  </thead>\n",
       "  <tbody>\n",
       "  </tbody>\n",
       "</table>\n",
       "</div>"
      ],
      "text/plain": [
       "Empty DataFrame\n",
       "Columns: [screen_name, text, name]\n",
       "Index: []"
      ]
     },
     "execution_count": 91,
     "metadata": {},
     "output_type": "execute_result"
    }
   ],
   "source": [
    "columns = ['screen_name','text', 'name']\n",
    "df = pd.DataFrame(columns=columns)\n",
    "df"
   ]
  },
  {
   "cell_type": "code",
   "execution_count": 94,
   "metadata": {
    "collapsed": true,
    "scrolled": false
   },
   "outputs": [],
   "source": [
    "for idx,line in enumerate(tweets):\n",
    "    s = twitter.models.Status.AsDict(line)\n",
    "    df.loc[idx] = [s['user']['screen_name'],s['text'],s['user']['name']]"
   ]
  },
  {
   "cell_type": "code",
   "execution_count": 96,
   "metadata": {},
   "outputs": [
    {
     "data": {
      "text/plain": [
       "100"
      ]
     },
     "execution_count": 96,
     "metadata": {},
     "output_type": "execute_result"
    }
   ],
   "source": [
    "len(df)"
   ]
  },
  {
   "cell_type": "code",
   "execution_count": null,
   "metadata": {
    "collapsed": true
   },
   "outputs": [],
   "source": [
    "df.to_csv"
   ]
  }
 ],
 "metadata": {
  "kernelspec": {
   "display_name": "Python 3",
   "language": "python",
   "name": "python3"
  },
  "language_info": {
   "codemirror_mode": {
    "name": "ipython",
    "version": 3
   },
   "file_extension": ".py",
   "mimetype": "text/x-python",
   "name": "python",
   "nbconvert_exporter": "python",
   "pygments_lexer": "ipython3",
   "version": "3.6.2"
  }
 },
 "nbformat": 4,
 "nbformat_minor": 2
}
