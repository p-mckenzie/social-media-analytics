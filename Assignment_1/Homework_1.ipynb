{
 "cells": [
  {
   "cell_type": "markdown",
   "metadata": {},
   "source": [
    "# Homework 1\n",
    "## Social Media Analytics\n",
    "\n",
    "Clarissa Franklin, Kyle Katzen, Paige McKenzie, Meyappan Subbaiah"
   ]
  },
  {
   "cell_type": "code",
   "execution_count": 1,
   "metadata": {
    "collapsed": true
   },
   "outputs": [],
   "source": [
    "import pandas as pd"
   ]
  },
  {
   "cell_type": "markdown",
   "metadata": {
    "colab_type": "text",
    "id": "Ld54aQXwv16o"
   },
   "source": [
    "# Import data"
   ]
  },
  {
   "cell_type": "code",
   "execution_count": 2,
   "metadata": {
    "colab": {
     "autoexec": {
      "startup": false,
      "wait_interval": 0
     },
     "base_uri": "https://localhost:8080/",
     "height": 253,
     "output_extras": [
      {
       "item_id": 1
      }
     ]
    },
    "colab_type": "code",
    "executionInfo": {
     "elapsed": 228,
     "status": "ok",
     "timestamp": 1516912069588,
     "user": {
      "displayName": "Paige A McKenzie",
      "photoUrl": "//lh5.googleusercontent.com/-I70gi2X1ros/AAAAAAAAAAI/AAAAAAAAAFs/lJP08hNVpZo/s50-c-k-no/photo.jpg",
      "userId": "109292397195567854330"
     },
     "user_tz": 360
    },
    "id": "07PEk1Fdvj1A",
    "outputId": "9a556fea-b2ad-4ee5-9da6-c572c379262c"
   },
   "outputs": [
    {
     "data": {
      "text/html": [
       "<div>\n",
       "<style>\n",
       "    .dataframe thead tr:only-child th {\n",
       "        text-align: right;\n",
       "    }\n",
       "\n",
       "    .dataframe thead th {\n",
       "        text-align: left;\n",
       "    }\n",
       "\n",
       "    .dataframe tbody tr th {\n",
       "        vertical-align: top;\n",
       "    }\n",
       "</style>\n",
       "<table border=\"1\" class=\"dataframe\">\n",
       "  <thead>\n",
       "    <tr style=\"text-align: right;\">\n",
       "      <th></th>\n",
       "      <th>Choice</th>\n",
       "      <th>A_follower_count</th>\n",
       "      <th>A_following_count</th>\n",
       "      <th>A_listed_count</th>\n",
       "      <th>A_mentions_received</th>\n",
       "      <th>A_retweets_received</th>\n",
       "      <th>A_mentions_sent</th>\n",
       "      <th>A_retweets_sent</th>\n",
       "      <th>A_posts</th>\n",
       "      <th>A_network_feature_1</th>\n",
       "      <th>...</th>\n",
       "      <th>B_following_count</th>\n",
       "      <th>B_listed_count</th>\n",
       "      <th>B_mentions_received</th>\n",
       "      <th>B_retweets_received</th>\n",
       "      <th>B_mentions_sent</th>\n",
       "      <th>B_retweets_sent</th>\n",
       "      <th>B_posts</th>\n",
       "      <th>B_network_feature_1</th>\n",
       "      <th>B_network_feature_2</th>\n",
       "      <th>B_network_feature_3</th>\n",
       "    </tr>\n",
       "  </thead>\n",
       "  <tbody>\n",
       "    <tr>\n",
       "      <th>0</th>\n",
       "      <td>0</td>\n",
       "      <td>228</td>\n",
       "      <td>302</td>\n",
       "      <td>3</td>\n",
       "      <td>0.583979</td>\n",
       "      <td>0.100503</td>\n",
       "      <td>0.100503</td>\n",
       "      <td>0.100503</td>\n",
       "      <td>0.362150</td>\n",
       "      <td>2</td>\n",
       "      <td>...</td>\n",
       "      <td>29808</td>\n",
       "      <td>1689</td>\n",
       "      <td>15.430498</td>\n",
       "      <td>3.984029</td>\n",
       "      <td>8.204331</td>\n",
       "      <td>0.332423</td>\n",
       "      <td>6.988815</td>\n",
       "      <td>66</td>\n",
       "      <td>75.530303</td>\n",
       "      <td>1916.893939</td>\n",
       "    </tr>\n",
       "    <tr>\n",
       "      <th>1</th>\n",
       "      <td>0</td>\n",
       "      <td>21591</td>\n",
       "      <td>1179</td>\n",
       "      <td>228</td>\n",
       "      <td>90.456506</td>\n",
       "      <td>25.798292</td>\n",
       "      <td>5.709329</td>\n",
       "      <td>1.111159</td>\n",
       "      <td>5.176620</td>\n",
       "      <td>369</td>\n",
       "      <td>...</td>\n",
       "      <td>848</td>\n",
       "      <td>1610</td>\n",
       "      <td>40.495021</td>\n",
       "      <td>8.943607</td>\n",
       "      <td>3.227677</td>\n",
       "      <td>0.564343</td>\n",
       "      <td>1.070321</td>\n",
       "      <td>163</td>\n",
       "      <td>132.030675</td>\n",
       "      <td>2931.515337</td>\n",
       "    </tr>\n",
       "    <tr>\n",
       "      <th>2</th>\n",
       "      <td>0</td>\n",
       "      <td>7310</td>\n",
       "      <td>1215</td>\n",
       "      <td>101</td>\n",
       "      <td>25.503644</td>\n",
       "      <td>9.556347</td>\n",
       "      <td>5.361519</td>\n",
       "      <td>0.591206</td>\n",
       "      <td>3.589718</td>\n",
       "      <td>95</td>\n",
       "      <td>...</td>\n",
       "      <td>482</td>\n",
       "      <td>206</td>\n",
       "      <td>0.734696</td>\n",
       "      <td>0.354379</td>\n",
       "      <td>0.603202</td>\n",
       "      <td>0.100503</td>\n",
       "      <td>0.603202</td>\n",
       "      <td>3</td>\n",
       "      <td>10.333333</td>\n",
       "      <td>277.333333</td>\n",
       "    </tr>\n",
       "    <tr>\n",
       "      <th>3</th>\n",
       "      <td>0</td>\n",
       "      <td>20</td>\n",
       "      <td>7</td>\n",
       "      <td>2</td>\n",
       "      <td>7.690824</td>\n",
       "      <td>0.277306</td>\n",
       "      <td>1.331508</td>\n",
       "      <td>0.100503</td>\n",
       "      <td>2.830627</td>\n",
       "      <td>6</td>\n",
       "      <td>...</td>\n",
       "      <td>17637</td>\n",
       "      <td>278</td>\n",
       "      <td>572.874856</td>\n",
       "      <td>390.293681</td>\n",
       "      <td>27.552040</td>\n",
       "      <td>7.167557</td>\n",
       "      <td>32.101906</td>\n",
       "      <td>1762</td>\n",
       "      <td>23.469296</td>\n",
       "      <td>1395.845634</td>\n",
       "    </tr>\n",
       "    <tr>\n",
       "      <th>4</th>\n",
       "      <td>1</td>\n",
       "      <td>45589</td>\n",
       "      <td>862</td>\n",
       "      <td>2641</td>\n",
       "      <td>148.854279</td>\n",
       "      <td>36.998884</td>\n",
       "      <td>27.881768</td>\n",
       "      <td>3.333492</td>\n",
       "      <td>23.861282</td>\n",
       "      <td>551</td>\n",
       "      <td>...</td>\n",
       "      <td>1711</td>\n",
       "      <td>181</td>\n",
       "      <td>21.601866</td>\n",
       "      <td>3.581661</td>\n",
       "      <td>6.764657</td>\n",
       "      <td>1.119727</td>\n",
       "      <td>4.563246</td>\n",
       "      <td>85</td>\n",
       "      <td>48.500000</td>\n",
       "      <td>1993.627907</td>\n",
       "    </tr>\n",
       "  </tbody>\n",
       "</table>\n",
       "<p>5 rows × 23 columns</p>\n",
       "</div>"
      ],
      "text/plain": [
       "   Choice  A_follower_count  A_following_count  A_listed_count  \\\n",
       "0       0               228                302               3   \n",
       "1       0             21591               1179             228   \n",
       "2       0              7310               1215             101   \n",
       "3       0                20                  7               2   \n",
       "4       1             45589                862            2641   \n",
       "\n",
       "   A_mentions_received  A_retweets_received  A_mentions_sent  A_retweets_sent  \\\n",
       "0             0.583979             0.100503         0.100503         0.100503   \n",
       "1            90.456506            25.798292         5.709329         1.111159   \n",
       "2            25.503644             9.556347         5.361519         0.591206   \n",
       "3             7.690824             0.277306         1.331508         0.100503   \n",
       "4           148.854279            36.998884        27.881768         3.333492   \n",
       "\n",
       "     A_posts  A_network_feature_1         ...           B_following_count  \\\n",
       "0   0.362150                    2         ...                       29808   \n",
       "1   5.176620                  369         ...                         848   \n",
       "2   3.589718                   95         ...                         482   \n",
       "3   2.830627                    6         ...                       17637   \n",
       "4  23.861282                  551         ...                        1711   \n",
       "\n",
       "   B_listed_count  B_mentions_received  B_retweets_received  B_mentions_sent  \\\n",
       "0            1689            15.430498             3.984029         8.204331   \n",
       "1            1610            40.495021             8.943607         3.227677   \n",
       "2             206             0.734696             0.354379         0.603202   \n",
       "3             278           572.874856           390.293681        27.552040   \n",
       "4             181            21.601866             3.581661         6.764657   \n",
       "\n",
       "   B_retweets_sent    B_posts  B_network_feature_1  B_network_feature_2  \\\n",
       "0         0.332423   6.988815                   66            75.530303   \n",
       "1         0.564343   1.070321                  163           132.030675   \n",
       "2         0.100503   0.603202                    3            10.333333   \n",
       "3         7.167557  32.101906                 1762            23.469296   \n",
       "4         1.119727   4.563246                   85            48.500000   \n",
       "\n",
       "   B_network_feature_3  \n",
       "0          1916.893939  \n",
       "1          2931.515337  \n",
       "2           277.333333  \n",
       "3          1395.845634  \n",
       "4          1993.627907  \n",
       "\n",
       "[5 rows x 23 columns]"
      ]
     },
     "execution_count": 2,
     "metadata": {},
     "output_type": "execute_result"
    }
   ],
   "source": [
    "df = pd.read_csv('train.csv')\n",
    "\n",
    "df.head()"
   ]
  },
  {
   "cell_type": "markdown",
   "metadata": {
    "colab_type": "text",
    "id": "jq_InGwSv54K"
   },
   "source": [
    "# Make a dataframe with A-B"
   ]
  },
  {
   "cell_type": "code",
   "execution_count": 3,
   "metadata": {
    "colab": {
     "autoexec": {
      "startup": false,
      "wait_interval": 0
     },
     "base_uri": "https://localhost:8080/",
     "height": 224,
     "output_extras": [
      {
       "item_id": 1
      }
     ]
    },
    "colab_type": "code",
    "executionInfo": {
     "elapsed": 256,
     "status": "ok",
     "timestamp": 1516912070090,
     "user": {
      "displayName": "Paige A McKenzie",
      "photoUrl": "//lh5.googleusercontent.com/-I70gi2X1ros/AAAAAAAAAAI/AAAAAAAAAFs/lJP08hNVpZo/s50-c-k-no/photo.jpg",
      "userId": "109292397195567854330"
     },
     "user_tz": 360
    },
    "id": "f-p069sgt_lV",
    "outputId": "365b3e69-29cf-4047-b431-c14482e33510"
   },
   "outputs": [
    {
     "data": {
      "text/html": [
       "<div>\n",
       "<style>\n",
       "    .dataframe thead tr:only-child th {\n",
       "        text-align: right;\n",
       "    }\n",
       "\n",
       "    .dataframe thead th {\n",
       "        text-align: left;\n",
       "    }\n",
       "\n",
       "    .dataframe tbody tr th {\n",
       "        vertical-align: top;\n",
       "    }\n",
       "</style>\n",
       "<table border=\"1\" class=\"dataframe\">\n",
       "  <thead>\n",
       "    <tr style=\"text-align: right;\">\n",
       "      <th></th>\n",
       "      <th>Choice</th>\n",
       "      <th>follower_count_diff</th>\n",
       "      <th>following_count_diff</th>\n",
       "      <th>listed_count_diff</th>\n",
       "      <th>mentions_received_diff</th>\n",
       "      <th>retweets_received_diff</th>\n",
       "      <th>mentions_sent_diff</th>\n",
       "      <th>retweets_sent_diff</th>\n",
       "      <th>posts_diff</th>\n",
       "      <th>network_feature_1_diff</th>\n",
       "      <th>network_feature_2_diff</th>\n",
       "      <th>network_feature_3_diff</th>\n",
       "    </tr>\n",
       "  </thead>\n",
       "  <tbody>\n",
       "    <tr>\n",
       "      <th>0</th>\n",
       "      <td>0</td>\n",
       "      <td>-34235</td>\n",
       "      <td>-29506</td>\n",
       "      <td>-1686</td>\n",
       "      <td>-14.846518</td>\n",
       "      <td>-3.883525</td>\n",
       "      <td>-8.103828</td>\n",
       "      <td>-0.231920</td>\n",
       "      <td>-6.626665</td>\n",
       "      <td>-64</td>\n",
       "      <td>90.969697</td>\n",
       "      <td>9438.106061</td>\n",
       "    </tr>\n",
       "    <tr>\n",
       "      <th>1</th>\n",
       "      <td>0</td>\n",
       "      <td>-17671</td>\n",
       "      <td>331</td>\n",
       "      <td>-1382</td>\n",
       "      <td>49.961485</td>\n",
       "      <td>16.854685</td>\n",
       "      <td>2.481652</td>\n",
       "      <td>0.546816</td>\n",
       "      <td>4.106299</td>\n",
       "      <td>206</td>\n",
       "      <td>-113.587704</td>\n",
       "      <td>-1601.149290</td>\n",
       "    </tr>\n",
       "    <tr>\n",
       "      <th>2</th>\n",
       "      <td>0</td>\n",
       "      <td>3688</td>\n",
       "      <td>733</td>\n",
       "      <td>-105</td>\n",
       "      <td>24.768949</td>\n",
       "      <td>9.201969</td>\n",
       "      <td>4.758317</td>\n",
       "      <td>0.490702</td>\n",
       "      <td>2.986516</td>\n",
       "      <td>92</td>\n",
       "      <td>58.594502</td>\n",
       "      <td>5722.563574</td>\n",
       "    </tr>\n",
       "    <tr>\n",
       "      <th>3</th>\n",
       "      <td>0</td>\n",
       "      <td>-19542</td>\n",
       "      <td>-17630</td>\n",
       "      <td>-276</td>\n",
       "      <td>-565.184032</td>\n",
       "      <td>-390.016375</td>\n",
       "      <td>-26.220532</td>\n",
       "      <td>-7.067053</td>\n",
       "      <td>-29.271279</td>\n",
       "      <td>-1756</td>\n",
       "      <td>-21.469296</td>\n",
       "      <td>-1299.678967</td>\n",
       "    </tr>\n",
       "    <tr>\n",
       "      <th>4</th>\n",
       "      <td>1</td>\n",
       "      <td>38035</td>\n",
       "      <td>-849</td>\n",
       "      <td>2460</td>\n",
       "      <td>127.252413</td>\n",
       "      <td>33.417223</td>\n",
       "      <td>21.117111</td>\n",
       "      <td>2.213765</td>\n",
       "      <td>19.298035</td>\n",
       "      <td>466</td>\n",
       "      <td>78.904293</td>\n",
       "      <td>840.220036</td>\n",
       "    </tr>\n",
       "  </tbody>\n",
       "</table>\n",
       "</div>"
      ],
      "text/plain": [
       "   Choice  follower_count_diff  following_count_diff  listed_count_diff  \\\n",
       "0       0               -34235                -29506              -1686   \n",
       "1       0               -17671                   331              -1382   \n",
       "2       0                 3688                   733               -105   \n",
       "3       0               -19542                -17630               -276   \n",
       "4       1                38035                  -849               2460   \n",
       "\n",
       "   mentions_received_diff  retweets_received_diff  mentions_sent_diff  \\\n",
       "0              -14.846518               -3.883525           -8.103828   \n",
       "1               49.961485               16.854685            2.481652   \n",
       "2               24.768949                9.201969            4.758317   \n",
       "3             -565.184032             -390.016375          -26.220532   \n",
       "4              127.252413               33.417223           21.117111   \n",
       "\n",
       "   retweets_sent_diff  posts_diff  network_feature_1_diff  \\\n",
       "0           -0.231920   -6.626665                     -64   \n",
       "1            0.546816    4.106299                     206   \n",
       "2            0.490702    2.986516                      92   \n",
       "3           -7.067053  -29.271279                   -1756   \n",
       "4            2.213765   19.298035                     466   \n",
       "\n",
       "   network_feature_2_diff  network_feature_3_diff  \n",
       "0               90.969697             9438.106061  \n",
       "1             -113.587704            -1601.149290  \n",
       "2               58.594502             5722.563574  \n",
       "3              -21.469296            -1299.678967  \n",
       "4               78.904293              840.220036  "
      ]
     },
     "execution_count": 3,
     "metadata": {},
     "output_type": "execute_result"
    }
   ],
   "source": [
    "paige=pd.DataFrame(df['Choice'])\n",
    "for i in range(1,12):\n",
    "    paige[df.columns[i][2:]+'_diff'] = df[df.columns[i]]-df[df.columns[i+11]]\n",
    "paige.head()"
   ]
  },
  {
   "cell_type": "markdown",
   "metadata": {
    "colab_type": "text",
    "id": "amumgdTEv88I"
   },
   "source": [
    "# Make a dataframe with A/B"
   ]
  },
  {
   "cell_type": "code",
   "execution_count": 4,
   "metadata": {
    "colab": {
     "autoexec": {
      "startup": false,
      "wait_interval": 0
     },
     "base_uri": "https://localhost:8080/",
     "height": 224,
     "output_extras": [
      {
       "item_id": 1
      }
     ]
    },
    "colab_type": "code",
    "executionInfo": {
     "elapsed": 299,
     "status": "ok",
     "timestamp": 1516912070561,
     "user": {
      "displayName": "Paige A McKenzie",
      "photoUrl": "//lh5.googleusercontent.com/-I70gi2X1ros/AAAAAAAAAAI/AAAAAAAAAFs/lJP08hNVpZo/s50-c-k-no/photo.jpg",
      "userId": "109292397195567854330"
     },
     "user_tz": 360
    },
    "id": "NHdwT9Qmt_0P",
    "outputId": "525e4f12-34f0-46e1-bb84-76c26e49dbf0"
   },
   "outputs": [
    {
     "data": {
      "text/html": [
       "<div>\n",
       "<style>\n",
       "    .dataframe thead tr:only-child th {\n",
       "        text-align: right;\n",
       "    }\n",
       "\n",
       "    .dataframe thead th {\n",
       "        text-align: left;\n",
       "    }\n",
       "\n",
       "    .dataframe tbody tr th {\n",
       "        vertical-align: top;\n",
       "    }\n",
       "</style>\n",
       "<table border=\"1\" class=\"dataframe\">\n",
       "  <thead>\n",
       "    <tr style=\"text-align: right;\">\n",
       "      <th></th>\n",
       "      <th>Choice</th>\n",
       "      <th>follower_count_ratio</th>\n",
       "      <th>following_count_ratio</th>\n",
       "      <th>listed_count_ratio</th>\n",
       "      <th>mentions_received_ratio</th>\n",
       "      <th>retweets_received_ratio</th>\n",
       "      <th>mentions_sent_ratio</th>\n",
       "      <th>retweets_sent_ratio</th>\n",
       "      <th>posts_ratio</th>\n",
       "      <th>network_feature_1_ratio</th>\n",
       "      <th>network_feature_2_ratio</th>\n",
       "      <th>network_feature_3_ratio</th>\n",
       "    </tr>\n",
       "  </thead>\n",
       "  <tbody>\n",
       "    <tr>\n",
       "      <th>0</th>\n",
       "      <td>0</td>\n",
       "      <td>0.006616</td>\n",
       "      <td>0.010132</td>\n",
       "      <td>0.001776</td>\n",
       "      <td>0.037846</td>\n",
       "      <td>0.025227</td>\n",
       "      <td>0.012250</td>\n",
       "      <td>0.302336</td>\n",
       "      <td>0.051819</td>\n",
       "      <td>0.030303</td>\n",
       "      <td>2.204413</td>\n",
       "      <td>5.923645</td>\n",
       "    </tr>\n",
       "    <tr>\n",
       "      <th>1</th>\n",
       "      <td>0</td>\n",
       "      <td>0.549921</td>\n",
       "      <td>1.390330</td>\n",
       "      <td>0.141615</td>\n",
       "      <td>2.233769</td>\n",
       "      <td>2.884551</td>\n",
       "      <td>1.768866</td>\n",
       "      <td>1.968943</td>\n",
       "      <td>4.836513</td>\n",
       "      <td>2.263804</td>\n",
       "      <td>0.139687</td>\n",
       "      <td>0.453815</td>\n",
       "    </tr>\n",
       "    <tr>\n",
       "      <th>2</th>\n",
       "      <td>0</td>\n",
       "      <td>2.018222</td>\n",
       "      <td>2.520747</td>\n",
       "      <td>0.490291</td>\n",
       "      <td>34.713213</td>\n",
       "      <td>26.966469</td>\n",
       "      <td>8.888426</td>\n",
       "      <td>5.882446</td>\n",
       "      <td>5.951102</td>\n",
       "      <td>31.666667</td>\n",
       "      <td>6.670436</td>\n",
       "      <td>21.634244</td>\n",
       "    </tr>\n",
       "    <tr>\n",
       "      <th>3</th>\n",
       "      <td>0</td>\n",
       "      <td>0.001022</td>\n",
       "      <td>0.000397</td>\n",
       "      <td>0.007194</td>\n",
       "      <td>0.013425</td>\n",
       "      <td>0.000711</td>\n",
       "      <td>0.048327</td>\n",
       "      <td>0.014022</td>\n",
       "      <td>0.088176</td>\n",
       "      <td>0.003405</td>\n",
       "      <td>0.085218</td>\n",
       "      <td>0.068895</td>\n",
       "    </tr>\n",
       "    <tr>\n",
       "      <th>4</th>\n",
       "      <td>1</td>\n",
       "      <td>6.035081</td>\n",
       "      <td>0.503799</td>\n",
       "      <td>14.591160</td>\n",
       "      <td>6.890807</td>\n",
       "      <td>10.330091</td>\n",
       "      <td>4.121682</td>\n",
       "      <td>2.977058</td>\n",
       "      <td>5.229015</td>\n",
       "      <td>6.482353</td>\n",
       "      <td>2.626893</td>\n",
       "      <td>1.421453</td>\n",
       "    </tr>\n",
       "  </tbody>\n",
       "</table>\n",
       "</div>"
      ],
      "text/plain": [
       "   Choice  follower_count_ratio  following_count_ratio  listed_count_ratio  \\\n",
       "0       0              0.006616               0.010132            0.001776   \n",
       "1       0              0.549921               1.390330            0.141615   \n",
       "2       0              2.018222               2.520747            0.490291   \n",
       "3       0              0.001022               0.000397            0.007194   \n",
       "4       1              6.035081               0.503799           14.591160   \n",
       "\n",
       "   mentions_received_ratio  retweets_received_ratio  mentions_sent_ratio  \\\n",
       "0                 0.037846                 0.025227             0.012250   \n",
       "1                 2.233769                 2.884551             1.768866   \n",
       "2                34.713213                26.966469             8.888426   \n",
       "3                 0.013425                 0.000711             0.048327   \n",
       "4                 6.890807                10.330091             4.121682   \n",
       "\n",
       "   retweets_sent_ratio  posts_ratio  network_feature_1_ratio  \\\n",
       "0             0.302336     0.051819                 0.030303   \n",
       "1             1.968943     4.836513                 2.263804   \n",
       "2             5.882446     5.951102                31.666667   \n",
       "3             0.014022     0.088176                 0.003405   \n",
       "4             2.977058     5.229015                 6.482353   \n",
       "\n",
       "   network_feature_2_ratio  network_feature_3_ratio  \n",
       "0                 2.204413                 5.923645  \n",
       "1                 0.139687                 0.453815  \n",
       "2                 6.670436                21.634244  \n",
       "3                 0.085218                 0.068895  \n",
       "4                 2.626893                 1.421453  "
      ]
     },
     "execution_count": 4,
     "metadata": {},
     "output_type": "execute_result"
    }
   ],
   "source": [
    "clarissa=pd.DataFrame(df['Choice'])\n",
    "for i in range(1,12):\n",
    "    clarissa[df.columns[i][2:]+'_ratio'] = df[df.columns[i]]/df[df.columns[i+11]].replace(to_replace=0,value=.01)\n",
    "    \n",
    "clarissa.head()"
   ]
  },
  {
   "cell_type": "markdown",
   "metadata": {
    "colab_type": "text",
    "id": "TQ0aRIXSv_tY"
   },
   "source": [
    "# Conduct Peep Jousting to see who wins\n",
    "### Options: A-B, A/B, or untransformed"
   ]
  },
  {
   "cell_type": "code",
   "execution_count": 5,
   "metadata": {
    "colab": {
     "autoexec": {
      "startup": false,
      "wait_interval": 0
     }
    },
    "colab_type": "code",
    "collapsed": true,
    "id": "1Ak323oPwmwa"
   },
   "outputs": [],
   "source": [
    "from sklearn.model_selection import train_test_split\n",
    "\n",
    "y = paige['Choice'].values\n",
    "X = paige[paige.columns[1:]].values\n",
    "\n",
    "X_train, X_test, y_train, y_test = train_test_split(X, y, test_size=0.3, random_state=42)"
   ]
  },
  {
   "cell_type": "code",
   "execution_count": 6,
   "metadata": {
    "colab": {
     "autoexec": {
      "startup": false,
      "wait_interval": 0
     },
     "base_uri": "https://localhost:8080/",
     "height": 68,
     "output_extras": [
      {
       "item_id": 1
      },
      {
       "item_id": 2
      }
     ]
    },
    "colab_type": "code",
    "executionInfo": {
     "elapsed": 305,
     "status": "ok",
     "timestamp": 1516912071615,
     "user": {
      "displayName": "Paige A McKenzie",
      "photoUrl": "//lh5.googleusercontent.com/-I70gi2X1ros/AAAAAAAAAAI/AAAAAAAAAFs/lJP08hNVpZo/s50-c-k-no/photo.jpg",
      "userId": "109292397195567854330"
     },
     "user_tz": 360
    },
    "id": "XWm83CUqv_AV",
    "outputId": "334d3299-9160-4694-8159-99ea2a4861c1"
   },
   "outputs": [
    {
     "name": "stdout",
     "output_type": "stream",
     "text": [
      "[[608 212]\n",
      " [198 632]]\n"
     ]
    },
    {
     "data": {
      "text/plain": [
       "0.75151515151515147"
      ]
     },
     "execution_count": 6,
     "metadata": {},
     "output_type": "execute_result"
    }
   ],
   "source": [
    "from sklearn.linear_model import LogisticRegression as LR\n",
    "from sklearn.metrics import confusion_matrix\n",
    "from sklearn.metrics import accuracy_score\n",
    "\n",
    "model1 = LR()\n",
    "model1.fit(X_train, y_train)\n",
    "\n",
    "prediction1 = model1.predict(X_test)\n",
    "print confusion_matrix(y_test, prediction1)\n",
    "accuracy_score(y_test, prediction1)"
   ]
  },
  {
   "cell_type": "code",
   "execution_count": 7,
   "metadata": {
    "colab": {
     "autoexec": {
      "startup": false,
      "wait_interval": 0
     }
    },
    "colab_type": "code",
    "collapsed": true,
    "id": "IY9YN4WVxoME"
   },
   "outputs": [],
   "source": [
    "y = clarissa['Choice'].values\n",
    "X = clarissa[clarissa.columns[1:]].values\n",
    "\n",
    "X_train, X_test, y_train, y_test = train_test_split(X, y, test_size=0.3, random_state=42)"
   ]
  },
  {
   "cell_type": "code",
   "execution_count": 8,
   "metadata": {
    "colab": {
     "autoexec": {
      "startup": false,
      "wait_interval": 0
     },
     "base_uri": "https://localhost:8080/",
     "height": 68,
     "output_extras": [
      {
       "item_id": 1
      },
      {
       "item_id": 2
      }
     ]
    },
    "colab_type": "code",
    "executionInfo": {
     "elapsed": 242,
     "status": "ok",
     "timestamp": 1516912072413,
     "user": {
      "displayName": "Paige A McKenzie",
      "photoUrl": "//lh5.googleusercontent.com/-I70gi2X1ros/AAAAAAAAAAI/AAAAAAAAAFs/lJP08hNVpZo/s50-c-k-no/photo.jpg",
      "userId": "109292397195567854330"
     },
     "user_tz": 360
    },
    "id": "X96bxn5ExoTS",
    "outputId": "89e4d8fe-f0e6-4751-9935-047e81c47823"
   },
   "outputs": [
    {
     "name": "stdout",
     "output_type": "stream",
     "text": [
      "[[ 75 745]\n",
      " [  4 826]]\n"
     ]
    },
    {
     "data": {
      "text/plain": [
       "0.54606060606060602"
      ]
     },
     "execution_count": 8,
     "metadata": {},
     "output_type": "execute_result"
    }
   ],
   "source": [
    "from sklearn.linear_model import LogisticRegression as LR\n",
    "from sklearn.metrics import confusion_matrix\n",
    "from sklearn.metrics import accuracy_score\n",
    "\n",
    "model2 = LR()\n",
    "model2.fit(X_train, y_train)\n",
    "\n",
    "prediction2 = model2.predict(X_test)\n",
    "print confusion_matrix(y_test, prediction2)\n",
    "accuracy_score(y_test, prediction2)"
   ]
  },
  {
   "cell_type": "code",
   "execution_count": 9,
   "metadata": {
    "colab": {
     "autoexec": {
      "startup": false,
      "wait_interval": 0
     }
    },
    "colab_type": "code",
    "collapsed": true,
    "id": "k7HnZ86hzDQA"
   },
   "outputs": [],
   "source": [
    "y = df['Choice'].values\n",
    "X = df[df.columns[1:]].values\n",
    "\n",
    "X_train, X_test, y_train, y_test = train_test_split(X, y, test_size=0.3, random_state=42)"
   ]
  },
  {
   "cell_type": "code",
   "execution_count": 10,
   "metadata": {
    "colab": {
     "autoexec": {
      "startup": false,
      "wait_interval": 0
     },
     "base_uri": "https://localhost:8080/",
     "height": 68,
     "output_extras": [
      {
       "item_id": 1
      },
      {
       "item_id": 2
      }
     ]
    },
    "colab_type": "code",
    "executionInfo": {
     "elapsed": 234,
     "status": "ok",
     "timestamp": 1516912073251,
     "user": {
      "displayName": "Paige A McKenzie",
      "photoUrl": "//lh5.googleusercontent.com/-I70gi2X1ros/AAAAAAAAAAI/AAAAAAAAAFs/lJP08hNVpZo/s50-c-k-no/photo.jpg",
      "userId": "109292397195567854330"
     },
     "user_tz": 360
    },
    "id": "fhdSjM90zRH_",
    "outputId": "2237d680-c084-479c-8fc4-c577310b751c"
   },
   "outputs": [
    {
     "name": "stdout",
     "output_type": "stream",
     "text": [
      "[[593 227]\n",
      " [177 653]]\n"
     ]
    },
    {
     "data": {
      "text/plain": [
       "0.75515151515151513"
      ]
     },
     "execution_count": 10,
     "metadata": {},
     "output_type": "execute_result"
    }
   ],
   "source": [
    "from sklearn.metrics import confusion_matrix\n",
    "from sklearn.metrics import accuracy_score\n",
    "\n",
    "model3 = LR()\n",
    "model3.fit(X_train, y_train)\n",
    "\n",
    "prediction3 = model3.predict(X_test)\n",
    "print confusion_matrix(y_test, prediction3)\n",
    "accuracy_score(y_test, prediction3)"
   ]
  },
  {
   "cell_type": "markdown",
   "metadata": {
    "colab_type": "text",
    "id": "tP8nNF-Ry_40"
   },
   "source": [
    "# Laziness wins!"
   ]
  },
  {
   "cell_type": "code",
   "execution_count": 11,
   "metadata": {
    "colab": {
     "autoexec": {
      "startup": false,
      "wait_interval": 0
     },
     "base_uri": "https://localhost:8080/",
     "height": 448,
     "output_extras": [
      {
       "item_id": 1
      }
     ]
    },
    "colab_type": "code",
    "executionInfo": {
     "elapsed": 529,
     "status": "ok",
     "timestamp": 1516912073931,
     "user": {
      "displayName": "Paige A McKenzie",
      "photoUrl": "//lh5.googleusercontent.com/-I70gi2X1ros/AAAAAAAAAAI/AAAAAAAAAFs/lJP08hNVpZo/s50-c-k-no/photo.jpg",
      "userId": "109292397195567854330"
     },
     "user_tz": 360
    },
    "id": "dwfxCyIHzVXk",
    "outputId": "0530cb9c-2da0-420f-de3c-5b7c42c23958"
   },
   "outputs": [
    {
     "data": {
      "image/png": "[encoded data removed]",
      "text/plain": [
       "<matplotlib.figure.Figure at 0xd5c1160>"
      ]
     },
     "metadata": {},
     "output_type": "display_data"
    }
   ],
   "source": [
    "import matplotlib.pyplot as plt\n",
    "plt.style.use('fivethirtyeight')\n",
    "pd.Series(model3.coef_[0], index=df.columns[1:]).plot(kind='bar', title='Feature Importance in Best Model')\n",
    "\n",
    "plt.show()"
   ]
  },
  {
   "cell_type": "code",
   "execution_count": 12,
   "metadata": {
    "colab": {
     "autoexec": {
      "startup": false,
      "wait_interval": 0
     },
     "base_uri": "https://localhost:8080/",
     "height": 34,
     "output_extras": [
      {
       "item_id": 1
      }
     ]
    },
    "colab_type": "code",
    "executionInfo": {
     "elapsed": 239,
     "status": "ok",
     "timestamp": 1516912074227,
     "user": {
      "displayName": "Paige A McKenzie",
      "photoUrl": "//lh5.googleusercontent.com/-I70gi2X1ros/AAAAAAAAAAI/AAAAAAAAAFs/lJP08hNVpZo/s50-c-k-no/photo.jpg",
      "userId": "109292397195567854330"
     },
     "user_tz": 360
    },
    "id": "noM3aKmE8WHp",
    "outputId": "12b74a0d-d1cf-41a8-f22c-0a6781fcfa19"
   },
   "outputs": [
    {
     "name": "stdout",
     "output_type": "stream",
     "text": [
      "A_listed_count, A_mentions_received, A_retweets_received, A_network_feature_1, B_follower_count, B_listed_count, B_retweets_received, B_network_feature_1\n"
     ]
    }
   ],
   "source": [
    "print ', '.join(df.columns[[3,4,5,9,12,14,16,20]])"
   ]
  },
  {
   "cell_type": "markdown",
   "metadata": {
    "colab_type": "text",
    "id": "SnAUaxZh7cMg"
   },
   "source": [
    "# Re-run model after dropping variables with low importance"
   ]
  },
  {
   "cell_type": "code",
   "execution_count": 13,
   "metadata": {
    "colab": {
     "autoexec": {
      "startup": false,
      "wait_interval": 0
     }
    },
    "colab_type": "code",
    "collapsed": true,
    "id": "UtCfQeTm7e6H"
   },
   "outputs": [],
   "source": [
    "y = df['Choice'].values\n",
    "X = df[df.columns[[3,4,5,9,12,14,16,20]]].values\n",
    "\n",
    "X_train_smol, X_test_smol, y_train_smol, y_test_smol = train_test_split(X, y, test_size=0.3, random_state=42)"
   ]
  },
  {
   "cell_type": "code",
   "execution_count": 14,
   "metadata": {
    "colab": {
     "autoexec": {
      "startup": false,
      "wait_interval": 0
     },
     "base_uri": "https://localhost:8080/",
     "height": 68,
     "output_extras": [
      {
       "item_id": 1
      },
      {
       "item_id": 2
      }
     ]
    },
    "colab_type": "code",
    "executionInfo": {
     "elapsed": 229,
     "status": "ok",
     "timestamp": 1516912074860,
     "user": {
      "displayName": "Paige A McKenzie",
      "photoUrl": "//lh5.googleusercontent.com/-I70gi2X1ros/AAAAAAAAAAI/AAAAAAAAAFs/lJP08hNVpZo/s50-c-k-no/photo.jpg",
      "userId": "109292397195567854330"
     },
     "user_tz": 360
    },
    "id": "CmvAjYBJ7iDp",
    "outputId": "c4e19b1c-01b8-4fba-95a8-943b5d0084fa"
   },
   "outputs": [
    {
     "name": "stdout",
     "output_type": "stream",
     "text": [
      "[[614 206]\n",
      " [191 639]]\n"
     ]
    },
    {
     "data": {
      "text/plain": [
       "0.7593939393939394"
      ]
     },
     "execution_count": 14,
     "metadata": {},
     "output_type": "execute_result"
    }
   ],
   "source": [
    "from sklearn.metrics import confusion_matrix\n",
    "from sklearn.metrics import accuracy_score\n",
    "\n",
    "model4 = LR()\n",
    "model4.fit(X_train_smol, y_train_smol)\n",
    "\n",
    "prediction4 = model4.predict(X_test_smol)\n",
    "print confusion_matrix(y_test_smol, prediction4)\n",
    "accuracy_score(y_test_smol, prediction4)"
   ]
  },
  {
   "cell_type": "markdown",
   "metadata": {
    "colab_type": "text",
    "id": "07KVh4_e8xtI"
   },
   "source": [
    "### Accuracy slightly increased when less important variables are omitted. For that reason, our final model is model4, the untransformed data with a subset of columns."
   ]
  },
  {
   "cell_type": "code",
   "execution_count": 15,
   "metadata": {
    "colab": {
     "autoexec": {
      "startup": false,
      "wait_interval": 0
     },
     "base_uri": "https://localhost:8080/",
     "height": 204,
     "output_extras": [
      {
       "item_id": 1
      }
     ]
    },
    "colab_type": "code",
    "executionInfo": {
     "elapsed": 274,
     "status": "ok",
     "timestamp": 1516913206612,
     "user": {
      "displayName": "Paige A McKenzie",
      "photoUrl": "//lh5.googleusercontent.com/-I70gi2X1ros/AAAAAAAAAAI/AAAAAAAAAFs/lJP08hNVpZo/s50-c-k-no/photo.jpg",
      "userId": "109292397195567854330"
     },
     "user_tz": 360
    },
    "id": "bVtt2ZoX-nKW",
    "outputId": "219a01bf-617e-40c5-f619-0b08e61da14c"
   },
   "outputs": [
    {
     "data": {
      "text/html": [
       "<div>\n",
       "<style>\n",
       "    .dataframe thead tr:only-child th {\n",
       "        text-align: right;\n",
       "    }\n",
       "\n",
       "    .dataframe thead th {\n",
       "        text-align: left;\n",
       "    }\n",
       "\n",
       "    .dataframe tbody tr th {\n",
       "        vertical-align: top;\n",
       "    }\n",
       "</style>\n",
       "<table border=\"1\" class=\"dataframe\">\n",
       "  <thead>\n",
       "    <tr style=\"text-align: right;\">\n",
       "      <th></th>\n",
       "      <th>true</th>\n",
       "      <th>pred</th>\n",
       "      <th>A_followers</th>\n",
       "      <th>B_followers</th>\n",
       "      <th>correct</th>\n",
       "      <th>Strategy_A</th>\n",
       "      <th>Strategy_B</th>\n",
       "      <th>Strategy_C</th>\n",
       "    </tr>\n",
       "  </thead>\n",
       "  <tbody>\n",
       "    <tr>\n",
       "      <th>0</th>\n",
       "      <td>0.0</td>\n",
       "      <td>0.0</td>\n",
       "      <td>267.0</td>\n",
       "      <td>102116.0</td>\n",
       "      <td>True</td>\n",
       "      <td>500.580</td>\n",
       "      <td>755.8700</td>\n",
       "      <td>755.8700</td>\n",
       "    </tr>\n",
       "    <tr>\n",
       "      <th>1</th>\n",
       "      <td>1.0</td>\n",
       "      <td>1.0</td>\n",
       "      <td>9679.0</td>\n",
       "      <td>209.0</td>\n",
       "      <td>True</td>\n",
       "      <td>38.395</td>\n",
       "      <td>62.5925</td>\n",
       "      <td>62.5925</td>\n",
       "    </tr>\n",
       "    <tr>\n",
       "      <th>2</th>\n",
       "      <td>1.0</td>\n",
       "      <td>1.0</td>\n",
       "      <td>404679.0</td>\n",
       "      <td>598.0</td>\n",
       "      <td>True</td>\n",
       "      <td>2013.395</td>\n",
       "      <td>3025.0925</td>\n",
       "      <td>3025.0925</td>\n",
       "    </tr>\n",
       "    <tr>\n",
       "      <th>3</th>\n",
       "      <td>0.0</td>\n",
       "      <td>0.0</td>\n",
       "      <td>10270.0</td>\n",
       "      <td>405315.0</td>\n",
       "      <td>True</td>\n",
       "      <td>2016.575</td>\n",
       "      <td>3029.8625</td>\n",
       "      <td>3029.8625</td>\n",
       "    </tr>\n",
       "    <tr>\n",
       "      <th>4</th>\n",
       "      <td>1.0</td>\n",
       "      <td>1.0</td>\n",
       "      <td>889300.0</td>\n",
       "      <td>1271.0</td>\n",
       "      <td>True</td>\n",
       "      <td>4436.500</td>\n",
       "      <td>6659.7500</td>\n",
       "      <td>6659.7500</td>\n",
       "    </tr>\n",
       "  </tbody>\n",
       "</table>\n",
       "</div>"
      ],
      "text/plain": [
       "   true  pred  A_followers  B_followers  correct  Strategy_A  Strategy_B  \\\n",
       "0   0.0   0.0        267.0     102116.0     True     500.580    755.8700   \n",
       "1   1.0   1.0       9679.0        209.0     True      38.395     62.5925   \n",
       "2   1.0   1.0     404679.0        598.0     True    2013.395   3025.0925   \n",
       "3   0.0   0.0      10270.0     405315.0     True    2016.575   3029.8625   \n",
       "4   1.0   1.0     889300.0       1271.0     True    4436.500   6659.7500   \n",
       "\n",
       "   Strategy_C  \n",
       "0    755.8700  \n",
       "1     62.5925  \n",
       "2   3025.0925  \n",
       "3   3029.8625  \n",
       "4   6659.7500  "
      ]
     },
     "execution_count": 15,
     "metadata": {},
     "output_type": "execute_result"
    }
   ],
   "source": [
    "profit_comp = pd.DataFrame([y_test, prediction4, X_test[:,0], X_test[:,11]], index=['true', 'pred', 'A_followers', 'B_followers']).T\n",
    "\n",
    "profit_comp['correct'] = profit_comp['true']==profit_comp['pred']\n",
    "profit_comp['Strategy_A'] = (profit_comp['true']*profit_comp['A_followers']*.0005*10)+(abs(profit_comp['true']-1)*profit_comp['B_followers']*.0005*10)-10 #odds purchase * profit if purchase\n",
    "\n",
    "profit_comp.loc[~profit_comp['correct'], 'Strategy_B'] = -10 #prediction was incorrect\n",
    "\n",
    "profit_comp.loc[(profit_comp['correct']) & (profit_comp['pred']==1.), 'Strategy_B'] = (profit_comp['A_followers']*.00075*10)-10\n",
    "profit_comp.loc[(profit_comp['correct']) & (profit_comp['pred']==0.), 'Strategy_B'] = (profit_comp['B_followers']*.00075*10)-10\n",
    "\n",
    "profit_comp.loc[(profit_comp['true']==1.), 'Strategy_C'] = (profit_comp['A_followers']*.00075*10)-10\n",
    "profit_comp.loc[(profit_comp['true']==0.), 'Strategy_C'] = (profit_comp['B_followers']*.00075*10)-10\n",
    "\n",
    "profit_comp.head(5)"
   ]
  },
  {
   "cell_type": "code",
   "execution_count": 16,
   "metadata": {
    "colab": {
     "autoexec": {
      "startup": false,
      "wait_interval": 0
     },
     "base_uri": "https://localhost:8080/",
     "height": 51,
     "output_extras": [
      {
       "item_id": 1
      }
     ]
    },
    "colab_type": "code",
    "executionInfo": {
     "elapsed": 238,
     "status": "ok",
     "timestamp": 1516913309199,
     "user": {
      "displayName": "Paige A McKenzie",
      "photoUrl": "//lh5.googleusercontent.com/-I70gi2X1ros/AAAAAAAAAAI/AAAAAAAAAFs/lJP08hNVpZo/s50-c-k-no/photo.jpg",
      "userId": "109292397195567854330"
     },
     "user_tz": 360
    },
    "id": "VriR7P5dEQrl",
    "outputId": "1ae86f9e-395f-423d-8a70-48021c7c3882"
   },
   "outputs": [
    {
     "name": "stdout",
     "output_type": "stream",
     "text": [
      "Profit of Current Strategy:  $8,512,737.90\n",
      "Profit with prediction model:  $11,898,965.42\n",
      "Profit with perfect prediction:  $12,777,356.84 \n",
      "\n",
      "Lift of prediction: 1.39778359933\n",
      "Lift of perfect model: 1.50096913591\n"
     ]
    }
   ],
   "source": [
    "print \"Profit of Current Strategy: \", '${:,.2f}'.format(sum(profit_comp['Strategy_A']))\n",
    "print \"Profit with prediction model: \", '${:,.2f}'.format(sum(profit_comp['Strategy_B']))\n",
    "print \"Profit with perfect prediction: \", '${:,.2f}'.format(sum(profit_comp['Strategy_C'])), '\\n'\n",
    "\n",
    "print \"Lift of prediction: {}\".format(sum(profit_comp['Strategy_B'])/sum(profit_comp['Strategy_A']))\n",
    "\n",
    "print \"Lift of perfect model: {}\".format(sum(profit_comp['Strategy_C'])/sum(profit_comp['Strategy_A']))"
   ]
  }
 ],
 "metadata": {
  "colab": {
   "collapsed_sections": [],
   "default_view": {},
   "name": "Assignment 1.ipynb",
   "provenance": [],
   "version": "0.3.2",
   "views": {}
  },
  "kernelspec": {
   "display_name": "Python 2",
   "language": "python",
   "name": "python2"
  },
  "language_info": {
   "codemirror_mode": {
    "name": "ipython",
    "version": 2
   },
   "file_extension": ".py",
   "mimetype": "text/x-python",
   "name": "python",
   "nbconvert_exporter": "python",
   "pygments_lexer": "ipython2",
   "version": "2.7.13"
  }
 },
 "nbformat": 4,
 "nbformat_minor": 1
}
