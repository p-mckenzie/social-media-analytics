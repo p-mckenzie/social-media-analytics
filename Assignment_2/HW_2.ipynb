{
 "cells": [
  {
   "cell_type": "markdown",
   "metadata": {},
   "source": [
    "# Homework 2\n",
    "## Social Media Analytics\n",
    "\n",
    "Clarissa Franklin, Kyle Katzen, Paige McKenzie, Meyappan Subbaiah"
   ]
  },
  {
   "cell_type": "code",
   "execution_count": 1,
   "metadata": {
    "collapsed": true
   },
   "outputs": [],
   "source": [
    "import pandas as pd\n",
    "import os"
   ]
  },
  {
   "cell_type": "code",
   "execution_count": 23,
   "metadata": {},
   "outputs": [
    {
     "data": {
      "text/html": [
       "<div>\n",
       "<style scoped>\n",
       "    .dataframe tbody tr th:only-of-type {\n",
       "        vertical-align: middle;\n",
       "    }\n",
       "\n",
       "    .dataframe tbody tr th {\n",
       "        vertical-align: top;\n",
       "    }\n",
       "\n",
       "    .dataframe thead th {\n",
       "        text-align: right;\n",
       "    }\n",
       "</style>\n",
       "<table border=\"1\" class=\"dataframe\">\n",
       "  <thead>\n",
       "    <tr style=\"text-align: right;\">\n",
       "      <th></th>\n",
       "      <th>year</th>\n",
       "      <th>month</th>\n",
       "      <th>day</th>\n",
       "      <th>speaker</th>\n",
       "      <th>text</th>\n",
       "    </tr>\n",
       "  </thead>\n",
       "  <tbody>\n",
       "    <tr>\n",
       "      <th>0</th>\n",
       "      <td>1789</td>\n",
       "      <td>04</td>\n",
       "      <td>30</td>\n",
       "      <td>George Washington</td>\n",
       "      <td>Fellow Citizens of the Senate and the House of...</td>\n",
       "    </tr>\n",
       "    <tr>\n",
       "      <th>1</th>\n",
       "      <td>1789</td>\n",
       "      <td>10</td>\n",
       "      <td>03</td>\n",
       "      <td>George Washington</td>\n",
       "      <td>Whereas it is the duty of all Nations to ackno...</td>\n",
       "    </tr>\n",
       "    <tr>\n",
       "      <th>2</th>\n",
       "      <td>1790</td>\n",
       "      <td>01</td>\n",
       "      <td>08</td>\n",
       "      <td>George Washington</td>\n",
       "      <td>Fellow Citizens of the Senate and House of Rep...</td>\n",
       "    </tr>\n",
       "    <tr>\n",
       "      <th>3</th>\n",
       "      <td>1790</td>\n",
       "      <td>12</td>\n",
       "      <td>08</td>\n",
       "      <td>George Washington</td>\n",
       "      <td>Fellow citizens of the Senate and House of Rep...</td>\n",
       "    </tr>\n",
       "    <tr>\n",
       "      <th>4</th>\n",
       "      <td>1790</td>\n",
       "      <td>12</td>\n",
       "      <td>29</td>\n",
       "      <td>George Washington</td>\n",
       "      <td>I the President of the United States by my own...</td>\n",
       "    </tr>\n",
       "  </tbody>\n",
       "</table>\n",
       "</div>"
      ],
      "text/plain": [
       "   year month day            speaker  \\\n",
       "0  1789    04  30  George Washington   \n",
       "1  1789    10  03  George Washington   \n",
       "2  1790    01  08  George Washington   \n",
       "3  1790    12  08  George Washington   \n",
       "4  1790    12  29  George Washington   \n",
       "\n",
       "                                                text  \n",
       "0  Fellow Citizens of the Senate and the House of...  \n",
       "1  Whereas it is the duty of all Nations to ackno...  \n",
       "2  Fellow Citizens of the Senate and House of Rep...  \n",
       "3  Fellow citizens of the Senate and House of Rep...  \n",
       "4  I the President of the United States by my own...  "
      ]
     },
     "execution_count": 23,
     "metadata": {},
     "output_type": "execute_result"
    }
   ],
   "source": [
    "df = pd.DataFrame(columns=['year', 'month', 'day', 'speaker', 'text'])\n",
    "for filename in os.listdir(\"data\"):\n",
    "    with open(os.path.join(\"data\", filename), 'r') as book:\n",
    "        s = pd.Series(filename.split(' ',1)[0].split('-')+[filename.split(' ',1)[1][:-4], book.read()], \n",
    "                      index=['year', 'month', 'day', 'speaker', 'text'])\n",
    "        df=df.append(s, ignore_index=True)\n",
    "df.head()"
   ]
  }
 ],
 "metadata": {
  "kernelspec": {
   "display_name": "Python 2",
   "language": "python",
   "name": "python2"
  },
  "language_info": {
   "codemirror_mode": {
    "name": "ipython",
    "version": 2
   },
   "file_extension": ".py",
   "mimetype": "text/x-python",
   "name": "python",
   "nbconvert_exporter": "python",
   "pygments_lexer": "ipython2",
   "version": "2.7.14"
  }
 },
 "nbformat": 4,
 "nbformat_minor": 2
}
