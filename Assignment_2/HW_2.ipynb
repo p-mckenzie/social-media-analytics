{
 "cells": [
  {
   "cell_type": "markdown",
   "metadata": {},
   "source": [
    "# Homework 2\n",
    "## Social Media Analytics\n",
    "\n",
    "Clarissa Franklin, Kyle Katzen, Paige McKenzie, Meyappan Subbaiah"
   ]
  },
  {
   "cell_type": "markdown",
   "metadata": {},
   "source": [
    "### Task A.\n",
    "We brainstormed a list of major political topics that we thought would be relevant from 1789-2018. Our list included eight topics: war, voting, equality, slavery, taxes, economy, transportation, and international relations. We believe that these are the major topics that will appear, but also expected approximately two additional topics to appear in the speeches that we did not include. For this reason, we chose to model 10 topics. "
   ]
  },
  {
   "cell_type": "markdown",
   "metadata": {},
   "source": [
    "### Task B. \n",
    "#### topic modelling with LDA"
   ]
  },
  {
   "cell_type": "code",
   "execution_count": 1,
   "metadata": {
    "collapsed": true
   },
   "outputs": [],
   "source": [
    "import pandas as pd\n",
    "import os\n",
    "from nltk.corpus import stopwords\n",
    "from nltk.stem.porter import *\n",
    "import nltk\n",
    "import regex as re\n",
    "import numpy as np\n",
    "import gensim\n",
    "import sklearn\n",
    "import sklearn\n",
    "from sklearn.feature_extraction.text import TfidfVectorizer"
   ]
  },
  {
   "cell_type": "code",
   "execution_count": 2,
   "metadata": {
    "collapsed": true
   },
   "outputs": [],
   "source": [
    "stemmer = PorterStemmer()\n",
    "\n",
    "from nltk.stem import WordNetLemmatizer\n",
    "lemmatizer = WordNetLemmatizer()\n",
    "\n",
    "\n",
    "stop = stopwords.words('english')\n",
    "\n",
    "        \n",
    "df = pd.DataFrame(columns=['year', 'month', 'day', 'speaker', 'text'])"
   ]
  },
  {
   "cell_type": "code",
   "execution_count": 3,
   "metadata": {
    "collapsed": true
   },
   "outputs": [],
   "source": [
    "for filename in os.listdir(\"data\"):\n",
    "    with open(os.path.join(\"data\", filename), 'r',encoding=\"utf8\", errors='ignore') as book:\n",
    "        s = pd.Series(filename.split(' ',1)[0].split('-')+[filename.split(' ',1)[1][:-4], book.read()], \n",
    "                      index=['year', 'month', 'day', 'speaker', 'text'])\n",
    "        df=df.append(s, ignore_index=True)"
   ]
  },
  {
   "cell_type": "code",
   "execution_count": 4,
   "metadata": {
    "collapsed": true,
    "scrolled": false
   },
   "outputs": [],
   "source": [
    "#test with small\n",
    "#df=df[0:5]\n",
    "\n",
    "df['text']=df['text'].apply(lambda x: re.sub(\"[^\\w\\s'+]\",'', x)) "
   ]
  },
  {
   "cell_type": "code",
   "execution_count": 5,
   "metadata": {},
   "outputs": [
    {
     "data": {
      "text/html": [
       "<div>\n",
       "<style scoped>\n",
       "    .dataframe tbody tr th:only-of-type {\n",
       "        vertical-align: middle;\n",
       "    }\n",
       "\n",
       "    .dataframe tbody tr th {\n",
       "        vertical-align: top;\n",
       "    }\n",
       "\n",
       "    .dataframe thead th {\n",
       "        text-align: right;\n",
       "    }\n",
       "</style>\n",
       "<table border=\"1\" class=\"dataframe\">\n",
       "  <thead>\n",
       "    <tr style=\"text-align: right;\">\n",
       "      <th></th>\n",
       "      <th>year</th>\n",
       "      <th>month</th>\n",
       "      <th>day</th>\n",
       "      <th>speaker</th>\n",
       "      <th>text</th>\n",
       "      <th>text_joined</th>\n",
       "    </tr>\n",
       "  </thead>\n",
       "  <tbody>\n",
       "    <tr>\n",
       "      <th>0</th>\n",
       "      <td>1789</td>\n",
       "      <td>04</td>\n",
       "      <td>30</td>\n",
       "      <td>George Washington</td>\n",
       "      <td>[fellow, citizen, senat, hous, repres, among, ...</td>\n",
       "      <td>fellow citizen senat hous repres among vicissi...</td>\n",
       "    </tr>\n",
       "    <tr>\n",
       "      <th>1</th>\n",
       "      <td>1789</td>\n",
       "      <td>10</td>\n",
       "      <td>03</td>\n",
       "      <td>George Washington</td>\n",
       "      <td>[duti, acknowledg, provid, god, grate, benefit...</td>\n",
       "      <td>wherea duti nation acknowledg provid almighti ...</td>\n",
       "    </tr>\n",
       "    <tr>\n",
       "      <th>2</th>\n",
       "      <td>1790</td>\n",
       "      <td>01</td>\n",
       "      <td>08</td>\n",
       "      <td>George Washington</td>\n",
       "      <td>[fellow, citizen, senat, hous, repres, embrac,...</td>\n",
       "      <td>fellow citizen senat hous repres embrac great ...</td>\n",
       "    </tr>\n",
       "    <tr>\n",
       "      <th>3</th>\n",
       "      <td>1790</td>\n",
       "      <td>12</td>\n",
       "      <td>08</td>\n",
       "      <td>George Washington</td>\n",
       "      <td>[fellow, citizen, senat, hous, repres, meet, f...</td>\n",
       "      <td>fellow citizen senat hous repres meet feel muc...</td>\n",
       "    </tr>\n",
       "    <tr>\n",
       "      <th>4</th>\n",
       "      <td>1790</td>\n",
       "      <td>12</td>\n",
       "      <td>29</td>\n",
       "      <td>George Washington</td>\n",
       "      <td>[written, speech, sign, hand, speak, desir, at...</td>\n",
       "      <td>presid unit state mouth written speech sign ha...</td>\n",
       "    </tr>\n",
       "  </tbody>\n",
       "</table>\n",
       "</div>"
      ],
      "text/plain": [
       "   year month day            speaker  \\\n",
       "0  1789    04  30  George Washington   \n",
       "1  1789    10  03  George Washington   \n",
       "2  1790    01  08  George Washington   \n",
       "3  1790    12  08  George Washington   \n",
       "4  1790    12  29  George Washington   \n",
       "\n",
       "                                                text  \\\n",
       "0  [fellow, citizen, senat, hous, repres, among, ...   \n",
       "1  [duti, acknowledg, provid, god, grate, benefit...   \n",
       "2  [fellow, citizen, senat, hous, repres, embrac,...   \n",
       "3  [fellow, citizen, senat, hous, repres, meet, f...   \n",
       "4  [written, speech, sign, hand, speak, desir, at...   \n",
       "\n",
       "                                         text_joined  \n",
       "0  fellow citizen senat hous repres among vicissi...  \n",
       "1  wherea duti nation acknowledg provid almighti ...  \n",
       "2  fellow citizen senat hous repres embrac great ...  \n",
       "3  fellow citizen senat hous repres meet feel muc...  \n",
       "4  presid unit state mouth written speech sign ha...  "
      ]
     },
     "execution_count": 5,
     "metadata": {},
     "output_type": "execute_result"
    }
   ],
   "source": [
    "df['text']=df['text'].apply(lambda x: [stemmer.stem(lemmatizer.lemmatize(item.lower())) for item in x.split() if item.lower() not in stop])\n",
    "\n",
    "tf_vect=TfidfVectorizer(max_df=0.75, min_df=0.1)\n",
    "\n",
    "df['text_joined']=df['text'].str.join(sep=\" \")\n",
    "x = tf_vect.fit_transform(df['text_joined']).todense()\n",
    "tf_words=tf_vect.get_feature_names()\n",
    "\n",
    "real_words=[]\n",
    "for word in tf_words:\n",
    "    first=word.split()[0]\n",
    "    if first.isalpha():\n",
    "        real_words+=[word]\n",
    "real_words\n",
    "\n",
    "#get frequency of words whole corpus\n",
    "#init=[]\n",
    "#corp=[i+init for i in df['text']][0]\n",
    "#freq_dist = nltk.FreqDist(corp)\n",
    "\n",
    "#also remove words that do not meet tf-idf thresholds (appear in nearly all documents, or are obscure words that do not appear in more than 10% of documents)\n",
    "df['text'] = df['text'].apply(lambda x: [ word for word in x if word in real_words])\n",
    "\n",
    "df.head()"
   ]
  },
  {
   "cell_type": "code",
   "execution_count": 6,
   "metadata": {},
   "outputs": [
    {
     "name": "stdout",
     "output_type": "stream",
     "text": [
      "Dictionary(1703 unique tokens: ['accomplish', 'accordingli', 'acknowledg', 'act', 'actual']...)\n"
     ]
    }
   ],
   "source": [
    "from gensim import corpora as cp\n",
    "#create the term dictionary of our corpus, where every unique term is assigned an index\n",
    "dictionary=cp.Dictionary(df['text'].values)\n",
    "\n",
    "len(dictionary)\n",
    "print(dictionary)\n",
    "#convert list of documets into document term matrix using the dictionary\n",
    "\n",
    "doc_term_matrix=[dictionary.doc2bow(doc) for doc in df['text'].values]"
   ]
  },
  {
   "cell_type": "code",
   "execution_count": 7,
   "metadata": {},
   "outputs": [
    {
     "data": {
      "text/html": [
       "<div>\n",
       "<style scoped>\n",
       "    .dataframe tbody tr th:only-of-type {\n",
       "        vertical-align: middle;\n",
       "    }\n",
       "\n",
       "    .dataframe tbody tr th {\n",
       "        vertical-align: top;\n",
       "    }\n",
       "\n",
       "    .dataframe thead th {\n",
       "        text-align: right;\n",
       "    }\n",
       "</style>\n",
       "<table border=\"1\" class=\"dataframe\">\n",
       "  <thead>\n",
       "    <tr style=\"text-align: right;\">\n",
       "      <th></th>\n",
       "      <th>topic</th>\n",
       "      <th>words_and_weights</th>\n",
       "    </tr>\n",
       "  </thead>\n",
       "  <tbody>\n",
       "    <tr>\n",
       "      <th>0</th>\n",
       "      <td>0</td>\n",
       "      <td>0.029*\"mr\" + 0.023*\"think\" + 0.015*\"vietnam\" +...</td>\n",
       "    </tr>\n",
       "    <tr>\n",
       "      <th>1</th>\n",
       "      <td>1</td>\n",
       "      <td>0.009*\"problem\" + 0.009*\"busi\" + 0.007*\"public...</td>\n",
       "    </tr>\n",
       "    <tr>\n",
       "      <th>2</th>\n",
       "      <td>2</td>\n",
       "      <td>0.014*\"upon\" + 0.014*\"constitut\" + 0.013*\"shal...</td>\n",
       "    </tr>\n",
       "    <tr>\n",
       "      <th>3</th>\n",
       "      <td>3</td>\n",
       "      <td>0.018*\"law\" + 0.011*\"busi\" + 0.011*\"upon\" + 0....</td>\n",
       "    </tr>\n",
       "    <tr>\n",
       "      <th>4</th>\n",
       "      <td>4</td>\n",
       "      <td>0.012*\"soviet\" + 0.007*\"nuclear\" + 0.007*\"unio...</td>\n",
       "    </tr>\n",
       "  </tbody>\n",
       "</table>\n",
       "</div>"
      ],
      "text/plain": [
       "   topic                                  words_and_weights\n",
       "0      0  0.029*\"mr\" + 0.023*\"think\" + 0.015*\"vietnam\" +...\n",
       "1      1  0.009*\"problem\" + 0.009*\"busi\" + 0.007*\"public...\n",
       "2      2  0.014*\"upon\" + 0.014*\"constitut\" + 0.013*\"shal...\n",
       "3      3  0.018*\"law\" + 0.011*\"busi\" + 0.011*\"upon\" + 0....\n",
       "4      4  0.012*\"soviet\" + 0.007*\"nuclear\" + 0.007*\"unio..."
      ]
     },
     "execution_count": 7,
     "metadata": {},
     "output_type": "execute_result"
    }
   ],
   "source": [
    "# Creating the object for LDA model using gensim library\n",
    "Lda = gensim.models.ldamodel.LdaModel\n",
    "\n",
    "# Running and Trainign LDA model on the document term matrix.\n",
    "ldamodel = Lda(doc_term_matrix, num_topics=10, id2word = dictionary, passes=50,update_every=1)\n",
    "\n",
    "#print the topics\n",
    "topics=pd.DataFrame(ldamodel.print_topics(num_topics=10, num_words=6), columns=['topic', 'words_and_weights'])\n",
    "topics.head()"
   ]
  },
  {
   "cell_type": "code",
   "execution_count": 8,
   "metadata": {},
   "outputs": [],
   "source": [
    "all_topics = ldamodel.get_document_topics(doc_term_matrix)"
   ]
  },
  {
   "cell_type": "markdown",
   "metadata": {},
   "source": [
    "#### Distribution of Topics"
   ]
  },
  {
   "cell_type": "code",
   "execution_count": 9,
   "metadata": {},
   "outputs": [
    {
     "data": {
      "text/html": [
       "<div>\n",
       "<style scoped>\n",
       "    .dataframe tbody tr th:only-of-type {\n",
       "        vertical-align: middle;\n",
       "    }\n",
       "\n",
       "    .dataframe tbody tr th {\n",
       "        vertical-align: top;\n",
       "    }\n",
       "\n",
       "    .dataframe thead th {\n",
       "        text-align: right;\n",
       "    }\n",
       "</style>\n",
       "<table border=\"1\" class=\"dataframe\">\n",
       "  <thead>\n",
       "    <tr style=\"text-align: right;\">\n",
       "      <th></th>\n",
       "      <th>year</th>\n",
       "      <th>month</th>\n",
       "      <th>day</th>\n",
       "      <th>speaker</th>\n",
       "      <th>text</th>\n",
       "      <th>text_joined</th>\n",
       "      <th>topics</th>\n",
       "    </tr>\n",
       "  </thead>\n",
       "  <tbody>\n",
       "    <tr>\n",
       "      <th>0</th>\n",
       "      <td>1789</td>\n",
       "      <td>04</td>\n",
       "      <td>30</td>\n",
       "      <td>George Washington</td>\n",
       "      <td>[fellow, citizen, senat, hous, repres, among, ...</td>\n",
       "      <td>fellow citizen senat hous repres among vicissi...</td>\n",
       "      <td>0</td>\n",
       "    </tr>\n",
       "    <tr>\n",
       "      <th>1</th>\n",
       "      <td>1789</td>\n",
       "      <td>10</td>\n",
       "      <td>03</td>\n",
       "      <td>George Washington</td>\n",
       "      <td>[duti, acknowledg, provid, god, grate, benefit...</td>\n",
       "      <td>wherea duti nation acknowledg provid almighti ...</td>\n",
       "      <td>0</td>\n",
       "    </tr>\n",
       "    <tr>\n",
       "      <th>2</th>\n",
       "      <td>1790</td>\n",
       "      <td>01</td>\n",
       "      <td>08</td>\n",
       "      <td>George Washington</td>\n",
       "      <td>[fellow, citizen, senat, hous, repres, embrac,...</td>\n",
       "      <td>fellow citizen senat hous repres embrac great ...</td>\n",
       "      <td>0</td>\n",
       "    </tr>\n",
       "    <tr>\n",
       "      <th>3</th>\n",
       "      <td>1790</td>\n",
       "      <td>12</td>\n",
       "      <td>08</td>\n",
       "      <td>George Washington</td>\n",
       "      <td>[fellow, citizen, senat, hous, repres, meet, f...</td>\n",
       "      <td>fellow citizen senat hous repres meet feel muc...</td>\n",
       "      <td>0</td>\n",
       "    </tr>\n",
       "    <tr>\n",
       "      <th>4</th>\n",
       "      <td>1790</td>\n",
       "      <td>12</td>\n",
       "      <td>29</td>\n",
       "      <td>George Washington</td>\n",
       "      <td>[written, speech, sign, hand, speak, desir, at...</td>\n",
       "      <td>presid unit state mouth written speech sign ha...</td>\n",
       "      <td>0</td>\n",
       "    </tr>\n",
       "  </tbody>\n",
       "</table>\n",
       "</div>"
      ],
      "text/plain": [
       "   year month day            speaker  \\\n",
       "0  1789    04  30  George Washington   \n",
       "1  1789    10  03  George Washington   \n",
       "2  1790    01  08  George Washington   \n",
       "3  1790    12  08  George Washington   \n",
       "4  1790    12  29  George Washington   \n",
       "\n",
       "                                                text  \\\n",
       "0  [fellow, citizen, senat, hous, repres, among, ...   \n",
       "1  [duti, acknowledg, provid, god, grate, benefit...   \n",
       "2  [fellow, citizen, senat, hous, repres, embrac,...   \n",
       "3  [fellow, citizen, senat, hous, repres, meet, f...   \n",
       "4  [written, speech, sign, hand, speak, desir, at...   \n",
       "\n",
       "                                         text_joined  topics  \n",
       "0  fellow citizen senat hous repres among vicissi...       0  \n",
       "1  wherea duti nation acknowledg provid almighti ...       0  \n",
       "2  fellow citizen senat hous repres embrac great ...       0  \n",
       "3  fellow citizen senat hous repres meet feel muc...       0  \n",
       "4  presid unit state mouth written speech sign ha...       0  "
      ]
     },
     "execution_count": 9,
     "metadata": {},
     "output_type": "execute_result"
    }
   ],
   "source": [
    "df['topics'] = 0\n",
    "df.head()"
   ]
  },
  {
   "cell_type": "code",
   "execution_count": 10,
   "metadata": {},
   "outputs": [],
   "source": [
    "topic_agg = []\n",
    "for num,doc in enumerate(all_topics):\n",
    "    topic_lst = [j[0] for j in doc]\n",
    "    topic_agg.append(topic_lst)\n",
    "df['topics'] = topic_agg"
   ]
  },
  {
   "cell_type": "code",
   "execution_count": 11,
   "metadata": {},
   "outputs": [
    {
     "data": {
      "text/html": [
       "<div>\n",
       "<style scoped>\n",
       "    .dataframe tbody tr th:only-of-type {\n",
       "        vertical-align: middle;\n",
       "    }\n",
       "\n",
       "    .dataframe tbody tr th {\n",
       "        vertical-align: top;\n",
       "    }\n",
       "\n",
       "    .dataframe thead th {\n",
       "        text-align: right;\n",
       "    }\n",
       "</style>\n",
       "<table border=\"1\" class=\"dataframe\">\n",
       "  <thead>\n",
       "    <tr style=\"text-align: right;\">\n",
       "      <th></th>\n",
       "      <th>year</th>\n",
       "      <th>month</th>\n",
       "      <th>day</th>\n",
       "      <th>speaker</th>\n",
       "      <th>text</th>\n",
       "      <th>text_joined</th>\n",
       "      <th>topics</th>\n",
       "    </tr>\n",
       "  </thead>\n",
       "  <tbody>\n",
       "    <tr>\n",
       "      <th>0</th>\n",
       "      <td>1789</td>\n",
       "      <td>04</td>\n",
       "      <td>30</td>\n",
       "      <td>George Washington</td>\n",
       "      <td>[fellow, citizen, senat, hous, repres, among, ...</td>\n",
       "      <td>fellow citizen senat hous repres among vicissi...</td>\n",
       "      <td>[2, 5]</td>\n",
       "    </tr>\n",
       "    <tr>\n",
       "      <th>1</th>\n",
       "      <td>1789</td>\n",
       "      <td>10</td>\n",
       "      <td>03</td>\n",
       "      <td>George Washington</td>\n",
       "      <td>[duti, acknowledg, provid, god, grate, benefit...</td>\n",
       "      <td>wherea duti nation acknowledg provid almighti ...</td>\n",
       "      <td>[0, 2, 5]</td>\n",
       "    </tr>\n",
       "    <tr>\n",
       "      <th>2</th>\n",
       "      <td>1790</td>\n",
       "      <td>01</td>\n",
       "      <td>08</td>\n",
       "      <td>George Washington</td>\n",
       "      <td>[fellow, citizen, senat, hous, repres, embrac,...</td>\n",
       "      <td>fellow citizen senat hous repres embrac great ...</td>\n",
       "      <td>[2, 5]</td>\n",
       "    </tr>\n",
       "    <tr>\n",
       "      <th>3</th>\n",
       "      <td>1790</td>\n",
       "      <td>12</td>\n",
       "      <td>08</td>\n",
       "      <td>George Washington</td>\n",
       "      <td>[fellow, citizen, senat, hous, repres, meet, f...</td>\n",
       "      <td>fellow citizen senat hous repres meet feel muc...</td>\n",
       "      <td>[2, 5]</td>\n",
       "    </tr>\n",
       "    <tr>\n",
       "      <th>4</th>\n",
       "      <td>1790</td>\n",
       "      <td>12</td>\n",
       "      <td>29</td>\n",
       "      <td>George Washington</td>\n",
       "      <td>[written, speech, sign, hand, speak, desir, at...</td>\n",
       "      <td>presid unit state mouth written speech sign ha...</td>\n",
       "      <td>[2, 3, 5, 8]</td>\n",
       "    </tr>\n",
       "  </tbody>\n",
       "</table>\n",
       "</div>"
      ],
      "text/plain": [
       "   year month day            speaker  \\\n",
       "0  1789    04  30  George Washington   \n",
       "1  1789    10  03  George Washington   \n",
       "2  1790    01  08  George Washington   \n",
       "3  1790    12  08  George Washington   \n",
       "4  1790    12  29  George Washington   \n",
       "\n",
       "                                                text  \\\n",
       "0  [fellow, citizen, senat, hous, repres, among, ...   \n",
       "1  [duti, acknowledg, provid, god, grate, benefit...   \n",
       "2  [fellow, citizen, senat, hous, repres, embrac,...   \n",
       "3  [fellow, citizen, senat, hous, repres, meet, f...   \n",
       "4  [written, speech, sign, hand, speak, desir, at...   \n",
       "\n",
       "                                         text_joined        topics  \n",
       "0  fellow citizen senat hous repres among vicissi...        [2, 5]  \n",
       "1  wherea duti nation acknowledg provid almighti ...     [0, 2, 5]  \n",
       "2  fellow citizen senat hous repres embrac great ...        [2, 5]  \n",
       "3  fellow citizen senat hous repres meet feel muc...        [2, 5]  \n",
       "4  presid unit state mouth written speech sign ha...  [2, 3, 5, 8]  "
      ]
     },
     "execution_count": 11,
     "metadata": {},
     "output_type": "execute_result"
    }
   ],
   "source": [
    "df.head()"
   ]
  },
  {
   "cell_type": "code",
   "execution_count": 12,
   "metadata": {},
   "outputs": [],
   "source": [
    "def new_columns(i, lst):\n",
    "    if i in lst:\n",
    "        return 1\n",
    "    else:\n",
    "        return 0\n",
    "\n",
    "for j in range(0,10):\n",
    "    df['Topic_' + str(j)] = df['topics'].apply(lambda x: new_columns(j, x))"
   ]
  },
  {
   "cell_type": "code",
   "execution_count": 13,
   "metadata": {},
   "outputs": [
    {
     "data": {
      "text/html": [
       "<div>\n",
       "<style scoped>\n",
       "    .dataframe tbody tr th:only-of-type {\n",
       "        vertical-align: middle;\n",
       "    }\n",
       "\n",
       "    .dataframe tbody tr th {\n",
       "        vertical-align: top;\n",
       "    }\n",
       "\n",
       "    .dataframe thead th {\n",
       "        text-align: right;\n",
       "    }\n",
       "</style>\n",
       "<table border=\"1\" class=\"dataframe\">\n",
       "  <thead>\n",
       "    <tr style=\"text-align: right;\">\n",
       "      <th></th>\n",
       "      <th>year</th>\n",
       "      <th>month</th>\n",
       "      <th>day</th>\n",
       "      <th>speaker</th>\n",
       "      <th>text</th>\n",
       "      <th>text_joined</th>\n",
       "      <th>topics</th>\n",
       "      <th>Topic_0</th>\n",
       "      <th>Topic_1</th>\n",
       "      <th>Topic_2</th>\n",
       "      <th>Topic_3</th>\n",
       "      <th>Topic_4</th>\n",
       "      <th>Topic_5</th>\n",
       "      <th>Topic_6</th>\n",
       "      <th>Topic_7</th>\n",
       "      <th>Topic_8</th>\n",
       "      <th>Topic_9</th>\n",
       "    </tr>\n",
       "  </thead>\n",
       "  <tbody>\n",
       "    <tr>\n",
       "      <th>0</th>\n",
       "      <td>1789</td>\n",
       "      <td>04</td>\n",
       "      <td>30</td>\n",
       "      <td>George Washington</td>\n",
       "      <td>[fellow, citizen, senat, hous, repres, among, ...</td>\n",
       "      <td>fellow citizen senat hous repres among vicissi...</td>\n",
       "      <td>[2, 5]</td>\n",
       "      <td>0</td>\n",
       "      <td>0</td>\n",
       "      <td>1</td>\n",
       "      <td>0</td>\n",
       "      <td>0</td>\n",
       "      <td>1</td>\n",
       "      <td>0</td>\n",
       "      <td>0</td>\n",
       "      <td>0</td>\n",
       "      <td>0</td>\n",
       "    </tr>\n",
       "    <tr>\n",
       "      <th>1</th>\n",
       "      <td>1789</td>\n",
       "      <td>10</td>\n",
       "      <td>03</td>\n",
       "      <td>George Washington</td>\n",
       "      <td>[duti, acknowledg, provid, god, grate, benefit...</td>\n",
       "      <td>wherea duti nation acknowledg provid almighti ...</td>\n",
       "      <td>[0, 2, 5]</td>\n",
       "      <td>1</td>\n",
       "      <td>0</td>\n",
       "      <td>1</td>\n",
       "      <td>0</td>\n",
       "      <td>0</td>\n",
       "      <td>1</td>\n",
       "      <td>0</td>\n",
       "      <td>0</td>\n",
       "      <td>0</td>\n",
       "      <td>0</td>\n",
       "    </tr>\n",
       "    <tr>\n",
       "      <th>2</th>\n",
       "      <td>1790</td>\n",
       "      <td>01</td>\n",
       "      <td>08</td>\n",
       "      <td>George Washington</td>\n",
       "      <td>[fellow, citizen, senat, hous, repres, embrac,...</td>\n",
       "      <td>fellow citizen senat hous repres embrac great ...</td>\n",
       "      <td>[2, 5]</td>\n",
       "      <td>0</td>\n",
       "      <td>0</td>\n",
       "      <td>1</td>\n",
       "      <td>0</td>\n",
       "      <td>0</td>\n",
       "      <td>1</td>\n",
       "      <td>0</td>\n",
       "      <td>0</td>\n",
       "      <td>0</td>\n",
       "      <td>0</td>\n",
       "    </tr>\n",
       "    <tr>\n",
       "      <th>3</th>\n",
       "      <td>1790</td>\n",
       "      <td>12</td>\n",
       "      <td>08</td>\n",
       "      <td>George Washington</td>\n",
       "      <td>[fellow, citizen, senat, hous, repres, meet, f...</td>\n",
       "      <td>fellow citizen senat hous repres meet feel muc...</td>\n",
       "      <td>[2, 5]</td>\n",
       "      <td>0</td>\n",
       "      <td>0</td>\n",
       "      <td>1</td>\n",
       "      <td>0</td>\n",
       "      <td>0</td>\n",
       "      <td>1</td>\n",
       "      <td>0</td>\n",
       "      <td>0</td>\n",
       "      <td>0</td>\n",
       "      <td>0</td>\n",
       "    </tr>\n",
       "    <tr>\n",
       "      <th>4</th>\n",
       "      <td>1790</td>\n",
       "      <td>12</td>\n",
       "      <td>29</td>\n",
       "      <td>George Washington</td>\n",
       "      <td>[written, speech, sign, hand, speak, desir, at...</td>\n",
       "      <td>presid unit state mouth written speech sign ha...</td>\n",
       "      <td>[2, 3, 5, 8]</td>\n",
       "      <td>0</td>\n",
       "      <td>0</td>\n",
       "      <td>1</td>\n",
       "      <td>1</td>\n",
       "      <td>0</td>\n",
       "      <td>1</td>\n",
       "      <td>0</td>\n",
       "      <td>0</td>\n",
       "      <td>1</td>\n",
       "      <td>0</td>\n",
       "    </tr>\n",
       "  </tbody>\n",
       "</table>\n",
       "</div>"
      ],
      "text/plain": [
       "   year month day            speaker  \\\n",
       "0  1789    04  30  George Washington   \n",
       "1  1789    10  03  George Washington   \n",
       "2  1790    01  08  George Washington   \n",
       "3  1790    12  08  George Washington   \n",
       "4  1790    12  29  George Washington   \n",
       "\n",
       "                                                text  \\\n",
       "0  [fellow, citizen, senat, hous, repres, among, ...   \n",
       "1  [duti, acknowledg, provid, god, grate, benefit...   \n",
       "2  [fellow, citizen, senat, hous, repres, embrac,...   \n",
       "3  [fellow, citizen, senat, hous, repres, meet, f...   \n",
       "4  [written, speech, sign, hand, speak, desir, at...   \n",
       "\n",
       "                                         text_joined        topics  Topic_0  \\\n",
       "0  fellow citizen senat hous repres among vicissi...        [2, 5]        0   \n",
       "1  wherea duti nation acknowledg provid almighti ...     [0, 2, 5]        1   \n",
       "2  fellow citizen senat hous repres embrac great ...        [2, 5]        0   \n",
       "3  fellow citizen senat hous repres meet feel muc...        [2, 5]        0   \n",
       "4  presid unit state mouth written speech sign ha...  [2, 3, 5, 8]        0   \n",
       "\n",
       "   Topic_1  Topic_2  Topic_3  Topic_4  Topic_5  Topic_6  Topic_7  Topic_8  \\\n",
       "0        0        1        0        0        1        0        0        0   \n",
       "1        0        1        0        0        1        0        0        0   \n",
       "2        0        1        0        0        1        0        0        0   \n",
       "3        0        1        0        0        1        0        0        0   \n",
       "4        0        1        1        0        1        0        0        1   \n",
       "\n",
       "   Topic_9  \n",
       "0        0  \n",
       "1        0  \n",
       "2        0  \n",
       "3        0  \n",
       "4        0  "
      ]
     },
     "execution_count": 13,
     "metadata": {},
     "output_type": "execute_result"
    }
   ],
   "source": [
    "df.head()"
   ]
  },
  {
   "cell_type": "code",
   "execution_count": 14,
   "metadata": {
    "collapsed": true
   },
   "outputs": [],
   "source": [
    "df.to_csv(\"topics_speech.csv\")"
   ]
  },
  {
   "cell_type": "markdown",
   "metadata": {},
   "source": [
    "Picture below created in R (code attached)"
   ]
  },
  {
   "cell_type": "markdown",
   "metadata": {},
   "source": [
    "![title](Topics_over_time.png)"
   ]
  },
  {
   "cell_type": "markdown",
   "metadata": {},
   "source": [
    "### Distribution of words in each topic"
   ]
  },
  {
   "cell_type": "code",
   "execution_count": 65,
   "metadata": {},
   "outputs": [
    {
     "data": {
      "text/html": [
       "<div>\n",
       "<style scoped>\n",
       "    .dataframe tbody tr th:only-of-type {\n",
       "        vertical-align: middle;\n",
       "    }\n",
       "\n",
       "    .dataframe tbody tr th {\n",
       "        vertical-align: top;\n",
       "    }\n",
       "\n",
       "    .dataframe thead th {\n",
       "        text-align: right;\n",
       "    }\n",
       "</style>\n",
       "<table border=\"1\" class=\"dataframe\">\n",
       "  <thead>\n",
       "    <tr style=\"text-align: right;\">\n",
       "      <th></th>\n",
       "      <th>Topic</th>\n",
       "      <th>word</th>\n",
       "      <th>weight</th>\n",
       "    </tr>\n",
       "  </thead>\n",
       "  <tbody>\n",
       "  </tbody>\n",
       "</table>\n",
       "</div>"
      ],
      "text/plain": [
       "Empty DataFrame\n",
       "Columns: [Topic, word, weight]\n",
       "Index: []"
      ]
     },
     "execution_count": 65,
     "metadata": {},
     "output_type": "execute_result"
    }
   ],
   "source": [
    "word_topic_dist = pd.DataFrame(columns=['Topic','word','weight'])\n",
    "word_topic_dist.head()"
   ]
  },
  {
   "cell_type": "code",
   "execution_count": 66,
   "metadata": {},
   "outputs": [
    {
     "name": "stdout",
     "output_type": "stream",
     "text": [
      "0\n",
      "('mr', 0.028679498)\n",
      "('think', 0.022893343)\n",
      "('vietnam', 0.014794714)\n",
      "('go', 0.013468637)\n",
      "('question', 0.009425681)\n",
      "('senat', 0.008579963)\n",
      "('want', 0.008500857)\n",
      "('say', 0.008394521)\n",
      "('south', 0.0074093854)\n",
      "('believ', 0.007248727)\n",
      "1\n",
      "('problem', 0.009007612)\n",
      "('busi', 0.008596857)\n",
      "('public', 0.0072408332)\n",
      "('system', 0.0068431376)\n",
      "('employ', 0.0064181034)\n",
      "('bank', 0.00630518)\n",
      "('today', 0.006228642)\n",
      "('court', 0.0061225607)\n",
      "('opportun', 0.0059980517)\n",
      "('progress', 0.005870454)\n",
      "2\n",
      "('upon', 0.014276791)\n",
      "('constitut', 0.0135479905)\n",
      "('shall', 0.013432109)\n",
      "('union', 0.00873695)\n",
      "('public', 0.0075864885)\n",
      "('law', 0.0073384587)\n",
      "('duti', 0.0064346483)\n",
      "('principl', 0.006072928)\n",
      "('free', 0.0050568026)\n",
      "('citizen', 0.004862452)\n",
      "3\n",
      "('law', 0.01844465)\n",
      "('busi', 0.010908679)\n",
      "('upon', 0.010845834)\n",
      "('congress', 0.009418972)\n",
      "('labor', 0.0077078864)\n",
      "('public', 0.0075070737)\n",
      "('condit', 0.0074172537)\n",
      "('legisl', 0.0072132046)\n",
      "('court', 0.0069335136)\n",
      "('men', 0.0067299176)\n",
      "4\n",
      "('soviet', 0.012447268)\n",
      "('nuclear', 0.0071570617)\n",
      "('union', 0.0066337786)\n",
      "('effort', 0.0064113247)\n",
      "('free', 0.0064026937)\n",
      "('freedom', 0.0063867113)\n",
      "('militari', 0.0063432646)\n",
      "('arm', 0.0062636086)\n",
      "('intern', 0.0060476)\n",
      "('defens', 0.0060018)\n",
      "5\n",
      "('congress', 0.008751983)\n",
      "('upon', 0.0078021227)\n",
      "('interest', 0.0067429096)\n",
      "('treati', 0.006624962)\n",
      "('citizen', 0.006234429)\n",
      "('public', 0.006130645)\n",
      "('present', 0.006022822)\n",
      "('subject', 0.0058531696)\n",
      "('act', 0.0054345652)\n",
      "('import', 0.0052334336)\n",
      "6\n",
      "('tax', 0.017975122)\n",
      "('increas', 0.014722164)\n",
      "('congress', 0.011877808)\n",
      "('program', 0.011271057)\n",
      "('price', 0.00974149)\n",
      "('billion', 0.009367121)\n",
      "('feder', 0.009057749)\n",
      "('product', 0.00844445)\n",
      "('econom', 0.0076217847)\n",
      "('energi', 0.0070374385)\n",
      "7\n",
      "('men', 0.013709692)\n",
      "('enemi', 0.010821847)\n",
      "('fight', 0.0101461755)\n",
      "('attack', 0.008948615)\n",
      "('armi', 0.0065161744)\n",
      "('militari', 0.006414999)\n",
      "('know', 0.0063161794)\n",
      "('ship', 0.0059513645)\n",
      "('america', 0.005559813)\n",
      "('use', 0.0051785065)\n",
      "8\n",
      "('america', 0.011448933)\n",
      "('know', 0.009766258)\n",
      "('freedom', 0.009004506)\n",
      "('let', 0.0077168597)\n",
      "('today', 0.007437654)\n",
      "('come', 0.0070151077)\n",
      "('man', 0.0068480456)\n",
      "('men', 0.0065762843)\n",
      "('go', 0.0063848956)\n",
      "('say', 0.006322606)\n",
      "9\n",
      "('america', 0.0139959175)\n",
      "('job', 0.010140877)\n",
      "('help', 0.009749496)\n",
      "('child', 0.0095712785)\n",
      "('congress', 0.009080637)\n",
      "('need', 0.00744963)\n",
      "('tonight', 0.0073784012)\n",
      "('health', 0.0073209773)\n",
      "('tax', 0.0072854166)\n",
      "('care', 0.0071804104)\n"
     ]
    }
   ],
   "source": [
    "## https://stackoverflow.com/questions/17662916/how-to-print-out-the-full-distribution-of-words-in-an-lda-topic-in-gensim\n",
    "for words in ldamodel.show_topics(formatted=False,num_words=10):\n",
    "    topic_num = words[0]\n",
    "    print(topic_num)\n",
    "    for word_prob in words[1]:\n",
    "        print(word_prob)\n",
    "        row = [topic_num,word_prob[0],word_prob[1]]\n",
    "        word_topic_dist = word_topic_dist.append({\n",
    "     \"Topic\": topic_num,\n",
    "     \"word\":  word_prob[0],\n",
    "     \"weight\": word_prob[1]\n",
    "      }, ignore_index=True)"
   ]
  },
  {
   "cell_type": "code",
   "execution_count": 67,
   "metadata": {},
   "outputs": [],
   "source": [
    "test = word_topic_dist.groupby(['Topic']).apply(lambda x: x['weight']/x['weight'].sum())"
   ]
  },
  {
   "cell_type": "code",
   "execution_count": 68,
   "metadata": {},
   "outputs": [],
   "source": [
    "word_topic_dist['weighted_numbers'] = test.values"
   ]
  },
  {
   "cell_type": "code",
   "execution_count": 69,
   "metadata": {},
   "outputs": [],
   "source": [
    "word_topic_dist.to_csv(\"topic_word_weights.csv\")"
   ]
  },
  {
   "cell_type": "markdown",
   "metadata": {},
   "source": [
    "Note: This graph was produced in R, I will clean it up later. I spent the last hour looking up how to fix this order and it's only pissing me off more. Will do later."
   ]
  },
  {
   "cell_type": "markdown",
   "metadata": {},
   "source": [
    "![title](word_topic_dist.png)"
   ]
  },
  {
   "cell_type": "markdown",
   "metadata": {},
   "source": [
    "### Task C\n",
    "In terms of topics addressed \"heavily\" in a speech, which 3 former presidents does President Trump share the highest similarity with? How did you arrive at your conclusion?"
   ]
  },
  {
   "cell_type": "markdown",
   "metadata": {},
   "source": [
    "### Note still need to do a cosine-simialirty or something"
   ]
  },
  {
   "cell_type": "code",
   "execution_count": null,
   "metadata": {
    "collapsed": true
   },
   "outputs": [],
   "source": []
  },
  {
   "cell_type": "markdown",
   "metadata": {},
   "source": [
    "Picture below created in R (code attached)"
   ]
  },
  {
   "cell_type": "markdown",
   "metadata": {},
   "source": [
    "![title](Part_C_similarity_Pres.png)"
   ]
  },
  {
   "cell_type": "markdown",
   "metadata": {},
   "source": [
    "### Task D\n",
    "In terms of his own speeches, do you see President Trump shifting the emphasis on certain topics over time? Explain your response. "
   ]
  },
  {
   "cell_type": "markdown",
   "metadata": {},
   "source": [
    "### Task E\n",
    "If you do a K-means clustering with the same number of clusters as topics, do you see President Trump's speeches and those of the 3 former presidents you identified in Task C in the same cluster? What was the basis of clustering (e.g., tf-idf, cosine similarity, etc.). Discuss your findings.   "
   ]
  },
  {
   "cell_type": "markdown",
   "metadata": {},
   "source": [
    "### Task F\n",
    "Provide a visualization of both clusters (with colors) and cosine scores using MDS. "
   ]
  },
  {
   "cell_type": "code",
   "execution_count": null,
   "metadata": {
    "collapsed": true
   },
   "outputs": [],
   "source": []
  }
 ],
 "metadata": {
  "kernelspec": {
   "display_name": "Python 3",
   "language": "python",
   "name": "python3"
  },
  "language_info": {
   "codemirror_mode": {
    "name": "ipython",
    "version": 3
   },
   "file_extension": ".py",
   "mimetype": "text/x-python",
   "name": "python",
   "nbconvert_exporter": "python",
   "pygments_lexer": "ipython3",
   "version": "3.6.4"
  }
 },
 "nbformat": 4,
 "nbformat_minor": 2
}
