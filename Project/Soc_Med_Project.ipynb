{
 "cells": [
  {
   "cell_type": "code",
   "execution_count": 2,
   "metadata": {},
   "outputs": [],
   "source": [
    "import twitter"
   ]
  },
  {
   "cell_type": "code",
   "execution_count": 9,
   "metadata": {},
   "outputs": [],
   "source": [
    "import twitter_tokens as tt\n",
    "import pandas as pd"
   ]
  },
  {
   "cell_type": "code",
   "execution_count": 10,
   "metadata": {},
   "outputs": [],
   "source": [
    "api = twitter.Api(consumer_key = tt.consumer_key, \\\n",
    "                  consumer_secret = tt.consumer_secret, \\\n",
    "                 access_token_key = tt.access_token, \\\n",
    "                 access_token_secret = tt.secret_token)"
   ]
  },
  {
   "cell_type": "code",
   "execution_count": 11,
   "metadata": {},
   "outputs": [
    {
     "name": "stdout",
     "output_type": "stream",
     "text": [
      "{\"created_at\": \"Fri Nov 08 21:34:08 +0000 2013\", \"default_profile\": true, \"description\": \"I'm a UT student with both too much to do and too much time. Somehow I make that possible.\", \"favourites_count\": 95, \"followers_count\": 14, \"friends_count\": 70, \"id\": 2183046332, \"id_str\": \"2183046332\", \"lang\": \"en\", \"name\": \"Kyle Katzen\", \"profile_background_color\": \"C0DEED\", \"profile_background_image_url\": \"http://abs.twimg.com/images/themes/theme1/bg.png\", \"profile_background_image_url_https\": \"https://abs.twimg.com/images/themes/theme1/bg.png\", \"profile_image_url\": \"http://pbs.twimg.com/profile_images/661461247846576128/ecqSOWGo_normal.jpg\", \"profile_image_url_https\": \"https://pbs.twimg.com/profile_images/661461247846576128/ecqSOWGo_normal.jpg\", \"profile_link_color\": \"1DA1F2\", \"profile_sidebar_border_color\": \"C0DEED\", \"profile_sidebar_fill_color\": \"DDEEF6\", \"profile_text_color\": \"333333\", \"profile_use_background_image\": true, \"screen_name\": \"KyleKatzen\", \"status\": {\"created_at\": \"Sat Apr 02 01:55:21 +0000 2016\", \"favorite_count\": 6, \"id\": 716081553739112448, \"id_str\": \"716081553739112448\", \"lang\": \"en\", \"source\": \"<a href=\\\"http://twitter.com/download/android\\\" rel=\\\"nofollow\\\">Twitter for Android</a>\", \"text\": \"Tow trucks are out in force for #RoundUp2016. I wish they could tow drunk drivers too. There are a lot of those.\"}, \"statuses_count\": 6}\n"
     ]
    }
   ],
   "source": [
    "print(api.VerifyCredentials())"
   ]
  },
  {
   "cell_type": "code",
   "execution_count": 28,
   "metadata": {
    "collapsed": true
   },
   "outputs": [],
   "source": [
    "dates = [\"2018-2-19\", \"2018-2-18\", \"2018-2-17\", \"2018-2-16\", \"2018-2-15\", \\\n",
    "         \"2018-2-14\", \"2018-2-13\", \"2018-2-12\", \"2018-2-11\", \"2018-2-10\", \\\n",
    "         \"2018-2-9\", \"2018-2-8\", \"2018-2-7\", \"2018-2-6\"]"
   ]
  },
  {
   "cell_type": "code",
   "execution_count": 53,
   "metadata": {},
   "outputs": [],
   "source": [
    "t_dfs = []\n",
    "for day, yesterday in zip(dates[:-1], dates[1:]):\n",
    "    for term in [\"EU4\", \"CK2\"]:\n",
    "        tweets = api.GetSearch(term = term, since = yesterday, until = day, count = 100, lang = \"en\")\n",
    "        df = pd.DataFrame(columns = [\"name\", \"screen_name\", \"followers_count\", \"text\", \"game\"])\n",
    "        for i, v in enumerate(tweets):\n",
    "            t = twitter.models.Status.AsDict(v)\n",
    "            try:\n",
    "                df.loc[i] = [t[\"user\"][\"name\"], t[\"user\"][\"screen_name\"], t[\"user\"][\"followers_count\"], t[\"text\"], term]\n",
    "            except KeyError:\n",
    "                df.loc[i] = [t[\"user\"][\"name\"], t[\"user\"][\"screen_name\"], 0, t[\"text\"], term]\n",
    "        t_dfs.append(df)\n",
    "    "
   ]
  },
  {
   "cell_type": "code",
   "execution_count": 76,
   "metadata": {},
   "outputs": [],
   "source": [
    "tweet_df = pd.DataFrame(columns = [\"name\", \"screen_name\", \"followers_count\", \"text\", \"game\"])\n",
    "for d in t_dfs:\n",
    "    tweet_df = tweet_df.append(d, ignore_index = True)"
   ]
  },
  {
   "cell_type": "code",
   "execution_count": 78,
   "metadata": {},
   "outputs": [],
   "source": [
    "tweet_df.to_csv(\"CK2_EU4_tweets.csv\")"
   ]
  }
 ],
 "metadata": {
  "kernelspec": {
   "display_name": "Python 3",
   "language": "python",
   "name": "python3"
  },
  "language_info": {
   "codemirror_mode": {
    "name": "ipython",
    "version": 3
   },
   "file_extension": ".py",
   "mimetype": "text/x-python",
   "name": "python",
   "nbconvert_exporter": "python",
   "pygments_lexer": "ipython3",
   "version": "3.6.2"
  }
 },
 "nbformat": 4,
 "nbformat_minor": 2
}
