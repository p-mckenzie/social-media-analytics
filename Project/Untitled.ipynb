{
 "cells": [
  {
   "cell_type": "code",
   "execution_count": 1,
   "metadata": {
    "collapsed": true
   },
   "outputs": [],
   "source": [
    "import twitter, time\n",
    "import pandas as pd\n",
    "import tokens_twitt"
   ]
  },
  {
   "cell_type": "code",
   "execution_count": 2,
   "metadata": {},
   "outputs": [
    {
     "name": "stdout",
     "output_type": "stream",
     "text": [
      "{\"created_at\": \"Wed Jun 19 14:36:18 +0000 2013\", \"description\": \"Current UT grad student (Business Analytics), TAMU '14 & '16 (Nuc Eng) Grad. Interested in Sports Analytics, Data Analytics, and everything Nuclear.\", \"favourites_count\": 4105, \"followers_count\": 212, \"friends_count\": 479, \"id\": 1531004706, \"lang\": \"en\", \"listed_count\": 4, \"location\": \"Texas, USA\", \"name\": \"Meyappan\", \"profile_background_color\": \"C0DEED\", \"profile_background_image_url\": \"http://pbs.twimg.com/profile_background_images/378800000002780119/3c1661270be5047c096e13f333d08528.jpeg\", \"profile_background_tile\": true, \"profile_banner_url\": \"https://pbs.twimg.com/profile_banners/1531004706/1385747652\", \"profile_image_url\": \"http://pbs.twimg.com/profile_images/949494171101929472/0WDlDRk__normal.jpg\", \"profile_link_color\": \"0084B4\", \"profile_sidebar_fill_color\": \"DDEEF6\", \"profile_text_color\": \"333333\", \"screen_name\": \"msubbaiah1\", \"status\": {\"created_at\": \"Sun Feb 25 15:52:37 +0000 2018\", \"id\": 967789440138711041, \"id_str\": \"967789440138711041\", \"lang\": \"en\", \"source\": \"<a href=\\\"http://twitter.com/download/android\\\" rel=\\\"nofollow\\\">Twitter for Android</a>\", \"text\": \"How can i get the TPA data for the NCAA? Do you mind sharing for a project of mine? @NBA_Math\"}, \"statuses_count\": 628, \"time_zone\": \"Atlantic Time (Canada)\", \"url\": \"https://t.co/vwc7exlCTz\", \"utc_offset\": -14400}\n"
     ]
    }
   ],
   "source": [
    "api = twitter.Api(consumer_key=tokens_twitt.CONSUMER_KEY,\n",
    "  consumer_secret=tokens_twitt.CONSUMER_SECRET,\n",
    "    access_token_key=tokens_twitt.ACCESS_TOKEN,\n",
    "    access_token_secret=tokens_twitt.ACCESS_SECRET)\n",
    "print api.VerifyCredentials()"
   ]
  },
  {
   "cell_type": "code",
   "execution_count": 3,
   "metadata": {},
   "outputs": [
    {
     "data": {
      "text/html": [
       "<div>\n",
       "<style>\n",
       "    .dataframe thead tr:only-child th {\n",
       "        text-align: right;\n",
       "    }\n",
       "\n",
       "    .dataframe thead th {\n",
       "        text-align: left;\n",
       "    }\n",
       "\n",
       "    .dataframe tbody tr th {\n",
       "        vertical-align: top;\n",
       "    }\n",
       "</style>\n",
       "<table border=\"1\" class=\"dataframe\">\n",
       "  <thead>\n",
       "    <tr style=\"text-align: right;\">\n",
       "      <th></th>\n",
       "      <th>Source</th>\n",
       "      <th>Target</th>\n",
       "      <th>Game</th>\n",
       "    </tr>\n",
       "  </thead>\n",
       "  <tbody>\n",
       "    <tr>\n",
       "      <th>0</th>\n",
       "      <td>Crimson_Rei</td>\n",
       "      <td>Daniel4world</td>\n",
       "      <td>EU4</td>\n",
       "    </tr>\n",
       "    <tr>\n",
       "      <th>1</th>\n",
       "      <td>LesserFrederick</td>\n",
       "      <td>Daniel4world</td>\n",
       "      <td>EU4</td>\n",
       "    </tr>\n",
       "    <tr>\n",
       "      <th>2</th>\n",
       "      <td>AsaTJ</td>\n",
       "      <td>CK2Benchmarks</td>\n",
       "      <td>EU4</td>\n",
       "    </tr>\n",
       "    <tr>\n",
       "      <th>3</th>\n",
       "      <td>StellarisGame</td>\n",
       "      <td>CK2Benchmarks</td>\n",
       "      <td>EU4</td>\n",
       "    </tr>\n",
       "    <tr>\n",
       "      <th>4</th>\n",
       "      <td>HOI_Game</td>\n",
       "      <td>CK2Benchmarks</td>\n",
       "      <td>EU4</td>\n",
       "    </tr>\n",
       "  </tbody>\n",
       "</table>\n",
       "</div>"
      ],
      "text/plain": [
       "            Source         Target Game\n",
       "0      Crimson_Rei   Daniel4world  EU4\n",
       "1  LesserFrederick   Daniel4world  EU4\n",
       "2            AsaTJ  CK2Benchmarks  EU4\n",
       "3    StellarisGame  CK2Benchmarks  EU4\n",
       "4         HOI_Game  CK2Benchmarks  EU4"
      ]
     },
     "execution_count": 3,
     "metadata": {},
     "output_type": "execute_result"
    }
   ],
   "source": [
    "df = pd.read_csv(\"soc_med_network.csv\")\n",
    "df.head()"
   ]
  },
  {
   "cell_type": "code",
   "execution_count": 4,
   "metadata": {
    "collapsed": true
   },
   "outputs": [],
   "source": [
    "columns = ['screen_name','followers','captured_foll','total_foll']\n",
    "raw_followers_df = pd.DataFrame(columns=columns)"
   ]
  },
  {
   "cell_type": "code",
   "execution_count": 5,
   "metadata": {
    "scrolled": true
   },
   "outputs": [],
   "source": [
    "for idx,name in enumerate(df['Source']):\n",
    "    time.sleep(2)\n",
    "    friends = api.GetFollowerIDs(screen_name='@'+name)\n",
    "    fol_name_lst = []\n",
    "    for j,val in enumerate(friends):\n",
    "        try:\n",
    "            u = api.GetUser(friends[j])\n",
    "            fol_name_lst.append(u.screen_name)\n",
    "        except:\n",
    "            break\n",
    "    raw_followers_df.loc[idx] = [name,fol_name_lst,len(friends),len(fol_name_lst)]"
   ]
  },
  {
   "cell_type": "code",
   "execution_count": 7,
   "metadata": {},
   "outputs": [
    {
     "data": {
      "text/plain": [
       "542"
      ]
     },
     "execution_count": 7,
     "metadata": {},
     "output_type": "execute_result"
    }
   ],
   "source": [
    "len(fol_name_lst)"
   ]
  },
  {
   "cell_type": "code",
   "execution_count": null,
   "metadata": {},
   "outputs": [],
   "source": [
    "1662/60"
   ]
  },
  {
   "cell_type": "code",
   "execution_count": null,
   "metadata": {
    "collapsed": true
   },
   "outputs": [],
   "source": []
  }
 ],
 "metadata": {
  "kernelspec": {
   "display_name": "Python 2",
   "language": "python",
   "name": "python2"
  },
  "language_info": {
   "codemirror_mode": {
    "name": "ipython",
    "version": 2
   },
   "file_extension": ".py",
   "mimetype": "text/x-python",
   "name": "python",
   "nbconvert_exporter": "python",
   "pygments_lexer": "ipython2",
   "version": "2.7.13"
  }
 },
 "nbformat": 4,
 "nbformat_minor": 2
}
