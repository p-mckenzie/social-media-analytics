{
 "cells": [
  {
   "cell_type": "code",
   "execution_count": null,
   "metadata": {
    "collapsed": true
   },
   "outputs": [],
   "source": [
    "import twitter, time\n",
    "import pandas as pd\n",
    "import tokens_twitt"
   ]
  },
  {
   "cell_type": "code",
   "execution_count": null,
   "metadata": {},
   "outputs": [],
   "source": [
    "api = twitter.Api(consumer_key=tokens_twitt.CONSUMER_KEY,\n",
    "  consumer_secret=tokens_twitt.CONSUMER_SECRET,\n",
    "    access_token_key=tokens_twitt.ACCESS_TOKEN,\n",
    "    access_token_secret=tokens_twitt.ACCESS_SECRET)\n",
    "print api.VerifyCredentials()"
   ]
  },
  {
   "cell_type": "code",
   "execution_count": null,
   "metadata": {},
   "outputs": [],
   "source": [
    "df = pd.read_csv(\"soc_med_network.csv\")\n",
    "df.head()"
   ]
  },
  {
   "cell_type": "code",
   "execution_count": null,
   "metadata": {
    "collapsed": true
   },
   "outputs": [],
   "source": [
    "columns = ['screen_name','followers']\n",
    "raw_followers_df = pd.DataFrame(columns=columns)"
   ]
  },
  {
   "cell_type": "code",
   "execution_count": null,
   "metadata": {
    "scrolled": true
   },
   "outputs": [],
   "source": [
    "for idx,name in enumerate(df['Source']):\n",
    "    if(idx==1):\n",
    "            break\n",
    "    else:\n",
    "        time.sleep(2)\n",
    "        friends = api.GetFollowerIDs(screen_name='@'+name)\n",
    "        fol_name_lst = []\n",
    "        for j,val in enumerate(friends):\n",
    "            try:\n",
    "                u = api.GetUser(friends[j])\n",
    "                fol_name_lst.append(u.screen_name)\n",
    "            except:\n",
    "                pass\n",
    "        raw_followers_df.loc[idx] = [name,fol_name_lst]"
   ]
  },
  {
   "cell_type": "code",
   "execution_count": null,
   "metadata": {},
   "outputs": [],
   "source": [
    "raw_followers_df"
   ]
  },
  {
   "cell_type": "code",
   "execution_count": null,
   "metadata": {},
   "outputs": [],
   "source": [
    "1662/60"
   ]
  },
  {
   "cell_type": "code",
   "execution_count": null,
   "metadata": {
    "collapsed": true
   },
   "outputs": [],
   "source": []
  }
 ],
 "metadata": {
  "kernelspec": {
   "display_name": "Python 2",
   "language": "python",
   "name": "python2"
  },
  "language_info": {
   "codemirror_mode": {
    "name": "ipython",
    "version": 2
   },
   "file_extension": ".py",
   "mimetype": "text/x-python",
   "name": "python",
   "nbconvert_exporter": "python",
   "pygments_lexer": "ipython2",
   "version": "2.7.13"
  }
 },
 "nbformat": 4,
 "nbformat_minor": 2
}
