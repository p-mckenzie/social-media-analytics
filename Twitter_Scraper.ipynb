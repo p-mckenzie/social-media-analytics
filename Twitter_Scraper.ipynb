{
 "cells": [
  {
   "cell_type": "code",
   "execution_count": 1,
   "metadata": {
    "collapsed": true
   },
   "outputs": [],
   "source": [
    "import twitter\n",
    "## Note install python-twitter (not twitter)"
   ]
  },
  {
   "cell_type": "markdown",
   "metadata": {},
   "source": [
    "### Set up Twitter tokens"
   ]
  },
  {
   "cell_type": "code",
   "execution_count": 20,
   "metadata": {},
   "outputs": [],
   "source": [
    "import tokens_twitt"
   ]
  },
  {
   "cell_type": "code",
   "execution_count": 22,
   "metadata": {},
   "outputs": [],
   "source": [
    "api = twitter.Api(consumer_key=tokens_twitt.CONSUMER_KEY,\n",
    "  consumer_secret=tokens_twitt.CONSUMER_SECRET,\n",
    "    access_token_key=tokens_twitt.ACCESS_TOKEN,\n",
    "    access_token_secret=tokens_twitt.ACCESS_SECRET)"
   ]
  },
  {
   "cell_type": "code",
   "execution_count": 7,
   "metadata": {},
   "outputs": [
    {
     "name": "stdout",
     "output_type": "stream",
     "text": [
      "{\"created_at\": \"Wed Jun 19 14:36:18 +0000 2013\", \"description\": \"Current UT grad student (Business Analytics), TAMU '14 & '16 (Nuc Eng) Grad. Interested in Sports Analytics, Data Analytics, and everything Nuclear.\", \"favourites_count\": 3762, \"followers_count\": 202, \"friends_count\": 440, \"id\": 1531004706, \"lang\": \"en\", \"listed_count\": 4, \"location\": \"Texas, USA\", \"name\": \"Meyappan\", \"profile_background_color\": \"C0DEED\", \"profile_background_image_url\": \"http://pbs.twimg.com/profile_background_images/378800000002780119/3c1661270be5047c096e13f333d08528.jpeg\", \"profile_background_tile\": true, \"profile_banner_url\": \"https://pbs.twimg.com/profile_banners/1531004706/1385747652\", \"profile_image_url\": \"http://pbs.twimg.com/profile_images/949494171101929472/0WDlDRk__normal.jpg\", \"profile_link_color\": \"0084B4\", \"profile_sidebar_fill_color\": \"DDEEF6\", \"profile_text_color\": \"333333\", \"screen_name\": \"msubbaiah1\", \"status\": {\"created_at\": \"Mon Jan 29 19:17:44 +0000 2018\", \"id\": 958056585930182659, \"id_str\": \"958056585930182659\", \"in_reply_to_screen_name\": \"presidual\", \"in_reply_to_status_id\": 958056218802536448, \"in_reply_to_user_id\": 3075907260, \"lang\": \"en\", \"source\": \"<a href=\\\"http://twitter.com\\\" rel=\\\"nofollow\\\">Twitter Web Client</a>\", \"text\": \"@presidual Actually been trying to get a hold of you for some viz ideas for a march madness shiny app I've been mak\\u2026 https://t.co/06Q5gCbflP\", \"truncated\": true}, \"statuses_count\": 610, \"time_zone\": \"Atlantic Time (Canada)\", \"url\": \"https://t.co/vwc7exlCTz\", \"utc_offset\": -14400}\n"
     ]
    }
   ],
   "source": [
    "print(api.VerifyCredentials())"
   ]
  },
  {
   "cell_type": "code",
   "execution_count": 12,
   "metadata": {},
   "outputs": [],
   "source": [
    "tweets = api.GetSearch(term='winter olympics', since=2018-1-15, count=5000)"
   ]
  },
  {
   "cell_type": "code",
   "execution_count": 16,
   "metadata": {},
   "outputs": [
    {
     "data": {
      "text/plain": [
       "[Status(ID=958028525352734722, ScreenName=IvankaTrump, Created=Mon Jan 29 17:26:14 +0000 2018, Text=u'Getting ready for the upcoming Winter Olympics! #Olympics2018 #TeamUSA https://t.co/mUco2ai52V'),\n",
       " Status(ID=958046389778264065, ScreenName=willripleyCNN, Created=Mon Jan 29 18:37:13 +0000 2018, Text=u'North Korea cancels inter-Korean joint cultural performance for the upcoming winter Olympics. The North says it\\u2019s b\\u2026 https://t.co/SGwoKBDvLg'),\n",
       " Status(ID=958026274714345472, ScreenName=Independent, Created=Mon Jan 29 17:17:17 +0000 2018, Text=u'North Korea cancels joint performance with South Korea ahead of Winter Olympics https://t.co/5qV7sXqtAC'),\n",
       " Status(ID=958368355722973185, ScreenName=rashio12, Created=Tue Jan 30 15:56:36 +0000 2018, Text=u'I added a video to a @YouTube playlist https://t.co/APFFxRJ4rR Winter Olympics Best of U.S. | Nathan Chen Super Bowl Ad'),\n",
       " Status(ID=958368346436759553, ScreenName=rashio12, Created=Tue Jan 30 15:56:34 +0000 2018, Text=u'I liked a @YouTube video https://t.co/APFFxRJ4rR Winter Olympics Best of U.S. | Nathan Chen Super Bowl Ad'),\n",
       " Status(ID=958368339751030785, ScreenName=tawaznigel1, Created=Tue Jan 30 15:56:32 +0000 2018, Text=u'RT @kwesesports: Kwes\\xe9 Sports brings you the 2018 Winter Olympics, LIVE and FREE from 9 to 25 February. Catch over 90 countries competing i\\u2026'),\n",
       " Status(ID=958368327017095169, ScreenName=dowdalln, Created=Tue Jan 30 15:56:29 +0000 2018, Text=u'RT @WornOnThisDay: Worn #onthisday in 1924 by figure skaters in the first Winter Olympics at Chamonix, France. Herma Planck-Szabo of Austri\\u2026'),\n",
       " Status(ID=958368321165918214, ScreenName=vocalistssus, Created=Tue Jan 30 15:56:28 +0000 2018, Text=u\"RT @seulgifood: #RedVelvet will be performing at the Pyeongchang Winter Olympics 'Headliner Show' on 20/02, 20:15 - 21:05 at the Pyeongchan\\u2026\"),\n",
       " Status(ID=958368310613159936, ScreenName=NBCOlympics, Created=Tue Jan 30 15:56:25 +0000 2018, Text=u'No goggles? No problem!\\n\\nYou can enjoy 360-degree and 180-degree live video experiences simply by downloading the N\\u2026 https://t.co/wOgnwzOSBc'),\n",
       " Status(ID=958368286110076928, ScreenName=tawaznigel1, Created=Tue Jan 30 15:56:19 +0000 2018, Text=u'RT @kfsnigeria: Kwes\\xe9 Sports brings you the 2018 Winter Olympics, LIVE and FREE from 9 to 25 February. Catch over 90 countries competing in\\u2026'),\n",
       " Status(ID=958368265251700737, ScreenName=marioomvoid, Created=Tue Jan 30 15:56:14 +0000 2018, Text=u'If Curling Can Make It in Tampa, It Can Make It Everywhere via @NYTimes https://t.co/hTM1kpkECd'),\n",
       " Status(ID=958368175556571138, ScreenName=alma_nature, Created=Tue Jan 30 15:55:53 +0000 2018, Text=u'RT @BarbraStreisand: .@NYTimes noted: \"By 2050, 9 of the 21 cities to have hosted the Winter Olympics will likely be too warm to ever host\\u2026'),\n",
       " Status(ID=958368174776422406, ScreenName=Sandra_Ri051, Created=Tue Jan 30 15:55:53 +0000 2018, Text=u'And last: Sprint To Give Customers Free Roaming In Korea For Winter Olympics  https://t.co/FJiEWVto3Y'),\n",
       " Status(ID=958368158007603201, ScreenName=almightyvelvet, Created=Tue Jan 30 15:55:49 +0000 2018, Text=u\"RT @seulgifood: #RedVelvet will be performing at the Pyeongchang Winter Olympics 'Headliner Show' on 20/02, 20:15 - 21:05 at the Pyeongchan\\u2026\"),\n",
       " Status(ID=958368095449448448, ScreenName=SeeSandSine, Created=Tue Jan 30 15:55:34 +0000 2018, Text=u'RT @kihyundaily: [#HQ|\\U0001f4f7] \\u2022 Kihyun \\U0001f439 \\n|| 2018 Pyeongchang Winter Olympics || 13.01.18\\n\\xa9 polychrome_kh\\n#KIHYUN #\\uae30\\ud604\\n#MONSTA_X #\\ubaac\\uc2a4\\ud0c0\\uc5d1\\uc2a4\\n#DRAMARAM\\u2026'),\n",
       " Status(ID=958368009910870017, ScreenName=hamhamtaro10, Created=Tue Jan 30 15:55:13 +0000 2018, Text=u\"RT @LeeeHye: The 2018 Winter Olympics in Pyeongchang 20180118\\n#SuperJunior #Donghae \\n[Please don't remove LOGO] https://t.co/aE58qzXdg2\"),\n",
       " Status(ID=958367981570052097, ScreenName=byhoneybee, Created=Tue Jan 30 15:55:07 +0000 2018, Text=u\"RT @seulgifood: #RedVelvet will be performing at the Pyeongchang Winter Olympics 'Headliner Show' on 20/02, 20:15 - 21:05 at the Pyeongchan\\u2026\"),\n",
       " Status(ID=958367975752519681, ScreenName=HassanMaynard, Created=Tue Jan 30 15:55:05 +0000 2018, Text=u'How US Security Services Will Protect the Winter Olympics https://t.co/eDm08Qaneo'),\n",
       " Status(ID=958367938741850113, ScreenName=ggwcup, Created=Tue Jan 30 15:54:56 +0000 2018, Text=u'RT @taytbells: Meet the Nigerian Simidele Adeagbo and the Ghanaian Akwasi Frimpong make debut appearances in skeleton and bobsledding at th\\u2026'),\n",
       " Status(ID=958367887718273025, ScreenName=MixtapeZelo, Created=Tue Jan 30 15:54:44 +0000 2018, Text=u\"RT @seulgifood: #RedVelvet will be performing at the Pyeongchang Winter Olympics 'Headliner Show' on 20/02, 20:15 - 21:05 at the Pyeongchan\\u2026\"),\n",
       " Status(ID=958367886925619201, ScreenName=kreyolicious, Created=Tue Jan 30 15:54:44 +0000 2018, Text=u'Yeah, Celine Marti going to the Winter Olympics is official! https://t.co/ffnZU6PQGk'),\n",
       " Status(ID=958367875852627968, ScreenName=PolarUK_IRE, Created=Tue Jan 30 15:54:41 +0000 2018, Text=u'We want to wish good luck to all of the #TeamPolar athletes who are getting set to compete at the Winter Olympics i\\u2026 https://t.co/1mJJgLnzK1'),\n",
       " Status(ID=958367845431300096, ScreenName=redvelvetfaney, Created=Tue Jan 30 15:54:34 +0000 2018, Text=u\"RT @seulgifood: #RedVelvet will be performing at the Pyeongchang Winter Olympics 'Headliner Show' on 20/02, 20:15 - 21:05 at the Pyeongchan\\u2026\"),\n",
       " Status(ID=958367844193964033, ScreenName=View_Pakistan, Created=Tue Jan 30 15:54:34 +0000 2018, Text=u'Muhammad Karim, Syed Haman(belongs to Naltar Valley, Gilgit Baltistan)to represent Pakistan in Winter Olympics 2018. https://t.co/EUZjlcSChe'),\n",
       " Status(ID=958367763415826433, ScreenName=SafiMaasai, Created=Tue Jan 30 15:54:15 +0000 2018, Text=u\"RT @intel: For the 1st time, #5G will be on full display at the @Olympics Winter Games, bringing fans new ways to watch the world's best at\\u2026\"),\n",
       " Status(ID=958367742108684288, ScreenName=JumbaMichael, Created=Tue Jan 30 15:54:09 +0000 2018, Text=u'KEEP YOURSELF UPDATED... 2018 PyeongChang Winter Olympics Fast Facts https://t.co/q9i22m6qPJ Check Out This Link... https://t.co/MqIm3WFuZu'),\n",
       " Status(ID=958367714753462272, ScreenName=pcrrongiee, Created=Tue Jan 30 15:54:03 +0000 2018, Text=u'RT @Rongfanbase: 180125 Chorong #\\uc5d0\\uc774\\ud551\\ud06c #\\ubc15\\ucd08\\ub871 (@Apinkpcr) at 2018 Pyeongchang Winter Olympics by pinkways\\n\\n\\U0001f43cDO NOT EDIT OR CROP LOGO\\U0001f43c https://\\u2026'),\n",
       " Status(ID=958367699066908672, ScreenName=techirepair, Created=Tue Jan 30 15:53:59 +0000 2018, Text=u'RT @intel: Passion is passion, grit is grit, sport is sport. Tune in to Intel Extreme Masters ahead of the Olympic Winter Games #PyeongChan\\u2026'),\n",
       " Status(ID=958367682935455745, ScreenName=brandsinvr, Created=Tue Jan 30 15:53:55 +0000 2018, Text=u'RT @thevrara: See the Winter #Olympics in VR #china  https://t.co/6cCzEb6TZv'),\n",
       " Status(ID=958367657295843328, ScreenName=Snellk, Created=Tue Jan 30 15:53:49 +0000 2018, Text=u'Charles Hamelin is still chasing the perfect race | CBC Sports https://t.co/4dmMWCJvPT'),\n",
       " Status(ID=958367645195210752, ScreenName=mikebyers3, Created=Tue Jan 30 15:53:46 +0000 2018, Text=u'Canadian sport goes to Florida, makes it small #curling\\n\\nIf Curling Can Make It in Tampa, It Can Make It Everywhere https://t.co/7zMD9pAsSM'),\n",
       " Status(ID=958367626769649665, ScreenName=thestormwithin, Created=Tue Jan 30 15:53:42 +0000 2018, Text=u\"RT @TVLine: #SNL's Leslie Jones Covering Winter #Olympics for NBC \\u2014 Will You Tune In?\\n https://t.co/a6PqyxUsqO https://t.co/mLGsU63mO2\"),\n",
       " Status(ID=958367599456342016, ScreenName=maggiekat13, Created=Tue Jan 30 15:53:35 +0000 2018, Text=u'Eurosport offers live VR Winter Olympics https://t.co/3pmP1aOq61 https://t.co/qn89YH7Kzg'),\n",
       " Status(ID=958367538357809152, ScreenName=namo2543, Created=Tue Jan 30 15:53:21 +0000 2018, Text=u\"RT @bakerv801: #RedVelvet \\u0e08\\u0e30\\u0e41\\u0e2a\\u0e14\\u0e07\\u0e17\\u0e35\\u0e48\\u0e07\\u0e32\\u0e19 Pyeongchang Winter Olympics 'Headliner Show'\\n\\u0e27\\u0e31\\u0e19\\u0e17\\u0e35\\u0e48 20 \\u0e01.\\u0e1e.\\n\\u0e40\\u0e27\\u0e25\\u0e32 18:15-19:05 \\u0e19. (\\u0e44\\u0e17\\u0e22)\\n\\u0e17\\u0e35\\u0e48 Pyeongchan\\u2026\"),\n",
       " Status(ID=958367493252239360, ScreenName=rogueSleipnir, Created=Tue Jan 30 15:53:10 +0000 2018, Text=u'RT @7_DREAMERS: [BROADCAST] Dreamcatcher Cut - KBS1TV Pyeongchang Winter Olympics G10 Special Live Broadcast\\n\\n\\u25b6\\ufe0f https://t.co/kdpaT3XRWt\\n\\n#\\u2026'),\n",
       " Status(ID=958367492644073472, ScreenName=BillGraveland, Created=Tue Jan 30 15:53:10 +0000 2018, Text=u'RT @calgaryherald: Council heard there are \\u201cstrong indications\\u201d Calgary will see the provincial and federal governments commit to funding a\\u2026'),\n",
       " Status(ID=958367486596042754, ScreenName=frespirit01, Created=Tue Jan 30 15:53:09 +0000 2018, Text=u'RT @MailOnline: Olympic officials furious after Reuters spoiled the Winter Games opening ceremony flame surprise by mistakenly leaking phot\\u2026'),\n",
       " Status(ID=958367478765236226, ScreenName=Adam_BOMB_14, Created=Tue Jan 30 15:53:07 +0000 2018, Text=u'RT @ESPNStatsInfo: 10 days to the Winter Olympics.\\n\\n@TeamUSA has won 10 Olympic snowboarding gold medals, most of any nation. https://t.co/\\u2026'),\n",
       " Status(ID=958367450831179776, ScreenName=peterbmasonedm, Created=Tue Jan 30 15:53:00 +0000 2018, Text=u'CBC https://t.co/smlQ45C8i6'),\n",
       " Status(ID=958367446448001024, ScreenName=exolover20141, Created=Tue Jan 30 15:52:59 +0000 2018, Text=u'@kjininihae @daeterrr 16th february is d-day of the winter olympics'),\n",
       " Status(ID=958367359957282818, ScreenName=japan225, Created=Tue Jan 30 15:52:38 +0000 2018, Text=u'RT @MailOnline: Olympic officials furious after Reuters spoiled the Winter Games opening ceremony flame surprise by mistakenly leaking phot\\u2026'),\n",
       " Status(ID=958367241396944896, ScreenName=denessa_reddish, Created=Tue Jan 30 15:52:10 +0000 2018, Text=u'RT @Koreandogs: Please share!  \"We have been deceived about dog meat.\" https://t.co/KsJzQ1c5p1 via @Change'),\n",
       " Status(ID=958367231531978753, ScreenName=heather1917, Created=Tue Jan 30 15:52:08 +0000 2018, Text=u'RT @2MuchApplePie: Time to deploy the commemorative Bob Ferris Winter Olympics profile pic. https://t.co/8mJKvgY2bU'),\n",
       " Status(ID=958367179690446849, ScreenName=MikeLevis7, Created=Tue Jan 30 15:51:55 +0000 2018, Text=u\"RT @MichaelAusiello: SNL's Leslie Jones Returning to Cover Winter #Olympics for NBC \\u2014 Will You Tune In? https://t.co/FapYFEK3LQ via @AndySw\\u2026\"),\n",
       " Status(ID=958367135008370688, ScreenName=markamckenzie, Created=Tue Jan 30 15:51:45 +0000 2018, Text=u\"Check out the innovations coming to this year's Winter Olympics...https://t.co/9GmkikkP0J\"),\n",
       " Status(ID=958367052351266816, ScreenName=Zcmnik, Created=Tue Jan 30 15:51:25 +0000 2018, Text=u'RT @yun4ngelic: GFRIEND for PyeongChang Winter Olympics (Full) https://t.co/UvcPuXHqWN via @YouTube'),\n",
       " Status(ID=958366916812394496, ScreenName=sdurhamwx095, Created=Tue Jan 30 15:50:53 +0000 2018, Text=u'RT @PSUPanthers: PSU Skier Freyd\\xeds Halla Einarsd\\xf3ttir will be competing in the PyeongChang Winter Olympics for her home country of Iceland!\\u2026'),\n",
       " Status(ID=958366851980976128, ScreenName=lostsungjoy, Created=Tue Jan 30 15:50:37 +0000 2018, Text=u\"RT @seulgifood: #RedVelvet will be performing at the Pyeongchang Winter Olympics 'Headliner Show' on 20/02, 20:15 - 21:05 at the Pyeongchan\\u2026\"),\n",
       " Status(ID=958366835811876864, ScreenName=SKRollins, Created=Tue Jan 30 15:50:33 +0000 2018, Text=u'RT @calgaryherald: Council heard there are \\u201cstrong indications\\u201d Calgary will see the provincial and federal governments commit to funding a\\u2026'),\n",
       " Status(ID=958366812130955264, ScreenName=givhero, Created=Tue Jan 30 15:50:28 +0000 2018, Text=u'Yep, that\\u2019s a workout all right. #fitnessmotivation https://t.co/Ot02SQ4AxB'),\n",
       " Status(ID=958366781994930185, ScreenName=kiretoce, Created=Tue Jan 30 15:50:21 +0000 2018, Text=u\"@NPRmelissablock I'm interested in what motivates these tropical countries to join in and compete in the Winter Oly\\u2026 https://t.co/4uzJuQacV8\"),\n",
       " Status(ID=958366777737728000, ScreenName=BelenBravook2, Created=Tue Jan 30 15:50:20 +0000 2018, Text=u'RT @popcornm: Seriously, who cares about the Winter Olympics when there are new X-Files episodes to watch?! #TheXFiles #XFN https://t.co/OB\\u2026'),\n",
       " Status(ID=958366769357373442, ScreenName=Whtapl, Created=Tue Jan 30 15:50:18 +0000 2018, Text=u'RT @TimothyS: You would never know from this Senate hearing going on right now that South and North Korea are engaged in dialogue and plann\\u2026'),\n",
       " Status(ID=958366729024909318, ScreenName=DaraZaneScully, Created=Tue Jan 30 15:50:08 +0000 2018, Text=u\"Megyn Kelly 'threw a fit' over Winter Olympics anchor job\\n https://t.co/uX0DFiF8BF\"),\n",
       " Status(ID=958366713535500290, ScreenName=tamarakeithNPR, Created=Tue Jan 30 15:50:04 +0000 2018, Text=u'RT @NPRmelissablock: Heading off to cover the #pyeongchang2018 Winter Olympics. What stories do you most want to hear? What (or who) are yo\\u2026'),\n",
       " Status(ID=958366678420807680, ScreenName=xfailadis, Created=Tue Jan 30 15:49:56 +0000 2018, Text=u\"President #HellenicOlympicCommittee @SpyrosCapralos to @beINSPORTS about #Greece's participation to the\\u2026 https://t.co/wAQak7MUSQ\"),\n",
       " Status(ID=958366640902635520, ScreenName=SharonShyBrown, Created=Tue Jan 30 15:49:47 +0000 2018, Text=u\"RT @MichaelAusiello: SNL's Leslie Jones Returning to Cover Winter #Olympics for NBC \\u2014 Will You Tune In? https://t.co/FapYFEK3LQ via @AndySw\\u2026\"),\n",
       " Status(ID=958366638004346885, ScreenName=chocotto10417, Created=Tue Jan 30 15:49:46 +0000 2018, Text=u'RT @Olympics: .@taralipinski the youngest winner of an individual event in the history of the Winter Games. #16daystogo https://t.co/nsk65z\\u2026'),\n",
       " Status(ID=958366617745883141, ScreenName=ARMONIKAOS, Created=Tue Jan 30 15:49:41 +0000 2018, Text=u'https://t.co/DTkcE95V8x'),\n",
       " Status(ID=958366607167901696, ScreenName=CbourneCanada, Created=Tue Jan 30 15:49:39 +0000 2018, Text=u'Our design/build solution for VANOC/IOC security housing for the 2010 Winter Olympics in Whistler. #staffwellbeing\\u2026 https://t.co/nmIzzwuiGG'),\n",
       " Status(ID=958366588700327936, ScreenName=Softynews, Created=Tue Jan 30 15:49:34 +0000 2018, Text=u'See the Winter Olympics in VR https://t.co/ywfcJk1yn7 https://t.co/tWENPaQcCl'),\n",
       " Status(ID=958366557859532801, ScreenName=winklerward10, Created=Tue Jan 30 15:49:27 +0000 2018, Text=u\"RT @sprawlcalgary: S3 begins now!\\n\\nIt's called Hindsight 2026, and it's a critical, in-depth look at whether another Winter Olympics would\\u2026\"),\n",
       " Status(ID=958366512288555008, ScreenName=kangyseulgi, Created=Tue Jan 30 15:49:16 +0000 2018, Text=u\"RT @seulgifood: #RedVelvet will be performing at the Pyeongchang Winter Olympics 'Headliner Show' on 20/02, 20:15 - 21:05 at the Pyeongchan\\u2026\"),\n",
       " Status(ID=958366483784110081, ScreenName=avose, Created=Tue Jan 30 15:49:09 +0000 2018, Text=u'Great photos! @reduxpictures The Workout That Saves Lindsey Vonn From Wipeouts https://t.co/3UZoEKbRzQ'),\n",
       " Status(ID=958366464829829120, ScreenName=everlasting1015, Created=Tue Jan 30 15:49:05 +0000 2018, Text=u\"RT @seulgifood: #RedVelvet will be performing at the Pyeongchang Winter Olympics 'Headliner Show' on 20/02, 20:15 - 21:05 at the Pyeongchan\\u2026\"),\n",
       " Status(ID=958366404587204608, ScreenName=mthorebgators, Created=Tue Jan 30 15:48:51 +0000 2018, Text=u'Our 4th graders competing in the Winter Olympics.  Note the carpet square skates and bobsled team.  Fun and active!! https://t.co/2gV5MBKuhp'),\n",
       " Status(ID=958366397008146438, ScreenName=LisaHerb1, Created=Tue Jan 30 15:48:49 +0000 2018, Text=u'10 things you need to know about PyeongChang and the 2018 Winter Olympics https://t.co/QPc3byHjvv #winterolympics'),\n",
       " Status(ID=958366300467757058, ScreenName=gabbylasala, Created=Tue Jan 30 15:48:26 +0000 2018, Text=u'RT @Stonehill_LYM: Love Your Melon is launching red, white and blue beanies with a new white leather gold foil patch just in time for the W\\u2026'),\n",
       " Status(ID=958366276534939649, ScreenName=andreyi, Created=Tue Jan 30 15:48:20 +0000 2018, Text=u'Why am I so excited about this sport? https://t.co/xC0z5I9crb'),\n",
       " Status(ID=958366264669474816, ScreenName=xhertx, Created=Tue Jan 30 15:48:17 +0000 2018, Text=u'RT @axios: North Korea has canceled one of its joint projects with South Korea in advance of the Winter Olympics https://t.co/dW0tFcfiW8'),\n",
       " Status(ID=958366258948435970, ScreenName=LitaTweeted, Created=Tue Jan 30 15:48:16 +0000 2018, Text=u\"@Keev26 it's like the winter olympics but for your brain and doesn't have to do with winter. Yes i am a writer. you're welcome\"),\n",
       " Status(ID=958366228883623937, ScreenName=NtlComedyCenter, Created=Tue Jan 30 15:48:09 +0000 2018, Text=u'RT @thecomicscomic: Go for the Gold, @Lesdoggg! #Olympics2018 #WinterOlympics https://t.co/A6IKcG5ckS'),\n",
       " Status(ID=958366155382710272, ScreenName=DGLL10, Created=Tue Jan 30 15:47:51 +0000 2018, Text=u'RT @IvankaTrump: Getting ready for the upcoming Winter Olympics! #Olympics2018 #TeamUSA https://t.co/mUco2ai52V'),\n",
       " Status(ID=958366127268159488, ScreenName=seattlePRgal, Created=Tue Jan 30 15:47:44 +0000 2018, Text=u'The Workout That Saves Lindsey Vonn From Wipeouts https://t.co/IUOSgFO8Zn'),\n",
       " Status(ID=958366069655191553, ScreenName=Cat_Kapow, Created=Tue Jan 30 15:47:31 +0000 2018, Text=u'RT @Cat_Kapow: Sign PETITION More than 460,000 people have signed this #Petition against the barbaric #DogCatMeatTrade in #SouthKorea the l\\u2026'),\n",
       " Status(ID=958366053351931910, ScreenName=QiuyaNate, Created=Tue Jan 30 15:47:27 +0000 2018, Text=u'RT @hanyuyuzurufeed: [D-10] The start of the 2018 Winter Olympics are a little over 10 days away, are you ready?! #Pyeongchang2018 #\\u7fbd\\u751f\\u7d50\\u5f26 ht\\u2026'),\n",
       " Status(ID=958365962092384258, ScreenName=xtl0s2slxr_912, Created=Tue Jan 30 15:47:05 +0000 2018, Text=u'Alex Beaulieu-Marchand narrowly misses podium at Winter X Games https://t.co/Hgcy2Xh8P3'),\n",
       " Status(ID=958365933243912193, ScreenName=ScottNolanSmith, Created=Tue Jan 30 15:46:58 +0000 2018, Text=u'Intel to capture @pyeongchang2018 Olympics in VR. Will be largest-scale VR event to date and first live VR broadcas\\u2026 https://t.co/MNbwtXznf4'),\n",
       " Status(ID=958365906496757761, ScreenName=BrynMightyMouth, Created=Tue Jan 30 15:46:52 +0000 2018, Text=u'RT @calgaryherald: Council heard there are \\u201cstrong indications\\u201d Calgary will see the provincial and federal governments commit to funding a\\u2026'),\n",
       " Status(ID=958365906127806465, ScreenName=thecomicscomic, Created=Tue Jan 30 15:46:52 +0000 2018, Text=u'Go for the Gold, @Lesdoggg! #Olympics2018 #WinterOlympics https://t.co/A6IKcG5ckS'),\n",
       " Status(ID=958365891779026945, ScreenName=cookho_search, Created=Tue Jan 30 15:46:48 +0000 2018, Text=u'See the Winter Olympics in VR - CNET https://t.co/2j3l2sNPEL'),\n",
       " Status(ID=958365842953179136, ScreenName=katypools, Created=Tue Jan 30 15:46:37 +0000 2018, Text=u'Count down to the February 8th Winter Olympics... who is excited? #gousa'),\n",
       " Status(ID=958365841556348928, ScreenName=TheLaughNetwork, Created=Tue Jan 30 15:46:36 +0000 2018, Text=u'NBC sending Leslie Jones to Korea to cover the Winter Olympics https://t.co/riMCx0m63y via @thecomicscomic https://t.co/1ZdW28LSvv'),\n",
       " Status(ID=958365835331907584, ScreenName=TheLaughNetwork, Created=Tue Jan 30 15:46:35 +0000 2018, Text=u'Leslie Jones Returns As NBC Contributor For The Winter Olympics! https://t.co/gYKj0N56Hl via @thehumormill https://t.co/Hr1o3xV007'),\n",
       " Status(ID=958365831095713792, ScreenName=Gear360News, Created=Tue Jan 30 15:46:34 +0000 2018, Text=u'See the Winter Olympics in VR - CNET https://t.co/yAp3hWKzzB #SamsungGear360 #Gear360 https://t.co/9mV71RaGma'),\n",
       " Status(ID=958365828168138753, ScreenName=baechubaeby, Created=Tue Jan 30 15:46:33 +0000 2018, Text=u\"RT @seulgifood: #RedVelvet will be performing at the Pyeongchang Winter Olympics 'Headliner Show' on 20/02, 20:15 - 21:05 at the Pyeongchan\\u2026\"),\n",
       " Status(ID=958365770819411968, ScreenName=tekhelet, Created=Tue Jan 30 15:46:19 +0000 2018, Text=u'RT @AFP: \"We are the same people... it\\'s only a line that divides us.\" An emotional #AFP video on elderly North Korean refugees in the Sout\\u2026'),\n",
       " Status(ID=958365739261538305, ScreenName=kelsey_snell, Created=Tue Jan 30 15:46:12 +0000 2018, Text=u'RT @NPRmelissablock: Heading off to cover the #pyeongchang2018 Winter Olympics. What stories do you most want to hear? What (or who) are yo\\u2026'),\n",
       " Status(ID=958365722249482240, ScreenName=Sokostina, Created=Tue Jan 30 15:46:08 +0000 2018, Text=u'RT @taytbells: Meet the Nigerian Simidele Adeagbo and the Ghanaian Akwasi Frimpong make debut appearances in skeleton and bobsledding at th\\u2026'),\n",
       " Status(ID=958365703760904194, ScreenName=synergy1135, Created=Tue Jan 30 15:46:04 +0000 2018, Text=u\"RT @TVLine: #SNL's Leslie Jones Covering Winter #Olympics for NBC \\u2014 Will You Tune In?\\n https://t.co/a6PqyxUsqO https://t.co/mLGsU63mO2\"),\n",
       " Status(ID=958365675524796416, ScreenName=thanh_sowon, Created=Tue Jan 30 15:45:57 +0000 2018, Text=u'RT @Rongfanbase: 180125 Chorong #\\uc5d0\\uc774\\ud551\\ud06c #\\ubc15\\ucd08\\ub871 (@Apinkpcr) at 2018 Pyeongchang Winter Olympics by pinkways\\n\\n\\U0001f43cDO NOT EDIT OR CROP LOGO\\U0001f43c https://\\u2026'),\n",
       " Status(ID=958365645447618560, ScreenName=joy_springhuman, Created=Tue Jan 30 15:45:50 +0000 2018, Text=u\"RT @seulgifood: #RedVelvet will be performing at the Pyeongchang Winter Olympics 'Headliner Show' on 20/02, 20:15 - 21:05 at the Pyeongchan\\u2026\"),\n",
       " Status(ID=958365642931007488, ScreenName=NPRmelissablock, Created=Tue Jan 30 15:45:49 +0000 2018, Text=u'Heading off to cover the #pyeongchang2018 Winter Olympics. What stories do you most want to hear? What (or who) are\\u2026 https://t.co/cvuNaYgcdQ'),\n",
       " Status(ID=958365632445276160, ScreenName=katypools, Created=Tue Jan 30 15:45:47 +0000 2018, Text=u'RT @TIME: Here are the essential U.S. athletes at the 2018 Winter Olympics to follow immediately https://t.co/is8kk7eryZ'),\n",
       " Status(ID=958365627697246208, ScreenName=kfsnigeria, Created=Tue Jan 30 15:45:45 +0000 2018, Text=u'Kwes\\xe9 Sports brings you the 2018 Winter Olympics, LIVE and FREE from 9 to 25 February. Catch over 90 countries comp\\u2026 https://t.co/UFgUdqqDHH'),\n",
       " Status(ID=958365585401790465, ScreenName=silviawantini, Created=Tue Jan 30 15:45:35 +0000 2018, Text=u'RT @PentagonINA: [INFO] 180130 Today Pentagon Will Attend to Pyeongchang Winter Olympics G-10 special live broadcast at 18.00 KST #\\ud39c\\ud0c0\\uace4\\n\\n#Ji\\u2026'),\n",
       " Status(ID=958365579743780864, ScreenName=AIRMAXRMLVOL2, Created=Tue Jan 30 15:45:34 +0000 2018, Text=u'RT @WISN12News: Hockey sisters to represent US and South Korea in Winter Olympics https://t.co/Peag9a8Wk7 https://t.co/3vu8VXspwf'),\n",
       " Status(ID=958365562081509376, ScreenName=kyleo71, Created=Tue Jan 30 15:45:30 +0000 2018, Text=u\"RT @MichaelAusiello: SNL's Leslie Jones Returning to Cover Winter #Olympics for NBC \\u2014 Will You Tune In? https://t.co/FapYFEK3LQ via @AndySw\\u2026\"),\n",
       " Status(ID=958365531630784512, ScreenName=TVappsBenelux, Created=Tue Jan 30 15:45:22 +0000 2018, Text=u'Eurosport to offer VR Winter Olympics coverage https://t.co/bB6kMcceEL'),\n",
       " Status(ID=958365522403438592, ScreenName=machiiicomp, Created=Tue Jan 30 15:45:20 +0000 2018, Text=u'See the Winter Olympics in VR - CNET #technology https://t.co/UTYgt8hWw2')]"
      ]
     },
     "execution_count": 16,
     "metadata": {},
     "output_type": "execute_result"
    }
   ],
   "source": [
    "tweets"
   ]
  },
  {
   "cell_type": "code",
   "execution_count": null,
   "metadata": {
    "collapsed": true
   },
   "outputs": [],
   "source": []
  }
 ],
 "metadata": {
  "kernelspec": {
   "display_name": "Python 2",
   "language": "python",
   "name": "python2"
  },
  "language_info": {
   "codemirror_mode": {
    "name": "ipython",
    "version": 2
   },
   "file_extension": ".py",
   "mimetype": "text/x-python",
   "name": "python",
   "nbconvert_exporter": "python",
   "pygments_lexer": "ipython2",
   "version": "2.7.13"
  }
 },
 "nbformat": 4,
 "nbformat_minor": 2
}
